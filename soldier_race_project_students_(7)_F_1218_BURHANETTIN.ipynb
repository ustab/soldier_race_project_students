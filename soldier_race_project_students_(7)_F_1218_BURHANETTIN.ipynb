{
  "cells": [
    {
      "cell_type": "markdown",
      "metadata": {
        "id": "view-in-github",
        "colab_type": "text"
      },
      "source": [
        "<a href=\"https://colab.research.google.com/github/ustab/soldier_race_project_students/blob/main/soldier_race_project_students_(7)_F_1218_BURHANETTIN.ipynb\" target=\"_parent\"><img src=\"https://colab.research.google.com/assets/colab-badge.svg\" alt=\"Open In Colab\"/></a>"
      ]
    },
    {
      "cell_type": "markdown",
      "metadata": {
        "id": "rfUdHCfe1b6v"
      },
      "source": [
        "___\n",
        "\n",
        "<p style=\"text-align: center;\"><img src=\"https://docs.google.com/uc?id=1lY0Uj5R04yMY3-ZppPWxqCr5pvBLYPnV\" class=\"img-fluid\" alt=\"CLRSWY\"></p>\n",
        "\n",
        "___"
      ]
    },
    {
      "cell_type": "markdown",
      "metadata": {
        "cell_style": "split",
        "heading_collapsed": true,
        "id": "CvFxPmf41b6y"
      },
      "source": [
        "# WELCOME!"
      ]
    },
    {
      "cell_type": "markdown",
      "metadata": {
        "cell_style": "split",
        "hidden": true,
        "id": "WZUMKNQY1b6y"
      },
      "source": [
        "In this project, you must apply EDA processes for the development of predictive models. Handling outliers, domain knowledge and feature engineering will be challenges.\n",
        "\n",
        "Also, this project aims to improve your ability to implement algorithms for Multi-Class Classification. Thus, you will have the opportunity to implement many algorithms commonly used for Multi-Class Classification problems.\n",
        "\n",
        "Before diving into the project, please take a look at the determines and tasks."
      ]
    },
    {
      "cell_type": "markdown",
      "metadata": {
        "cell_style": "split",
        "heading_collapsed": true,
        "id": "laCRtJs51b6z"
      },
      "source": [
        "# Determines"
      ]
    },
    {
      "cell_type": "markdown",
      "metadata": {
        "cell_style": "split",
        "hidden": true,
        "id": "iixh9Bej1b6z"
      },
      "source": [
        "The 2012 US Army Anthropometric Survey (ANSUR II) was executed by the Natick Soldier Research, Development and Engineering Center (NSRDEC) from October 2010 to April 2012 and is comprised of personnel representing the total US Army force to include the US Army Active Duty, Reserves, and National Guard. In addition to the anthropometric and demographic data described below, the ANSUR II database also consists of 3D whole body, foot, and head scans of Soldier participants. These 3D data are not publicly available out of respect for the privacy of ANSUR II participants. The data from this survey are used for a wide range of equipment design, sizing, and tariffing applications within the military and has many potential commercial, industrial, and academic applications.\n",
        "\n",
        "The ANSUR II working databases contain 93 anthropometric measurements which were directly measured, and 15 demographic/administrative variables explained below. The ANSUR II Male working database contains a total sample of 4,082 subjects. The ANSUR II Female working database contains a total sample of 1,986 subjects.\n",
        "\n",
        "\n",
        "DATA DICT:\n",
        "https://data.world/datamil/ansur-ii-data-dictionary/workspace/file?filename=ANSUR+II+Databases+Overview.pdf\n",
        "\n",
        "---\n",
        "\n",
        "To achieve high prediction success, you must understand the data well and develop different approaches that can affect the dependent variable.\n",
        "\n",
        "Firstly, try to understand the dataset column by column using pandas module. Do research within the scope of domain (body scales, and race characteristics) knowledge on the internet to get to know the data set in the fastest way. \n",
        "\n",
        "You will implement ***Logistic Regression, Support Vector Machine, XGBoost, Random Forest*** algorithms. Also, evaluate the success of your models with appropriate performance metrics.\n",
        "\n",
        "At the end of the project, choose the most successful model and try to enhance the scores with ***SMOTE*** make it ready to deploy. Furthermore, use ***SHAP*** to explain how the best model you choose works."
      ]
    },
    {
      "cell_type": "markdown",
      "metadata": {
        "cell_style": "split",
        "heading_collapsed": true,
        "id": "P2UckCvP1b60"
      },
      "source": [
        "# Tasks"
      ]
    },
    {
      "cell_type": "markdown",
      "metadata": {
        "cell_style": "split",
        "hidden": true,
        "id": "gCVDEsGB1b60"
      },
      "source": [
        "#### 1. Exploratory Data Analysis (EDA)\n",
        "- Import Libraries, Load Dataset, Exploring Data\n",
        "\n",
        "    *i. Import Libraries*\n",
        "    \n",
        "    *ii. Ingest Data *\n",
        "    \n",
        "    *iii. Explore Data*\n",
        "    \n",
        "    *iv. Outlier Detection*\n",
        "    \n",
        "    *v.  Drop unnecessary features*\n",
        "\n",
        "#### 2. Data Preprocessing\n",
        "- Scale (if needed)\n",
        "- Separete the data frame for evaluation purposes\n",
        "\n",
        "#### 3. Multi-class Classification\n",
        "- Import libraries\n",
        "- Implement SVM Classifer\n",
        "- Implement Decision Tree Classifier\n",
        "- Implement Random Forest Classifer\n",
        "- Implement XGBoost Classifer\n",
        "- Compare The Models\n",
        "\n"
      ]
    },
    {
      "cell_type": "markdown",
      "metadata": {
        "heading_collapsed": true,
        "id": "Y5-Kay1Eqvdj"
      },
      "source": [
        "# EDA\n",
        "- Drop unnecessary colums\n",
        "- Drop DODRace class if value count below 500 (we assume that our data model can't learn if it is below 500)"
      ]
    },
    {
      "cell_type": "markdown",
      "metadata": {
        "heading_collapsed": true,
        "hidden": true,
        "id": "K7UZHtvu1b62"
      },
      "source": [
        "## Import Libraries\n",
        "Besides Numpy and Pandas, you need to import the necessary modules for data visualization, data preprocessing, Model building and tuning.\n",
        "\n",
        "*Note: Check out the course materials.*"
      ]
    },
    {
      "cell_type": "code",
      "execution_count": 5,
      "metadata": {
        "hidden": true,
        "id": "OqnRjwHB1b64"
      },
      "outputs": [],
      "source": [
        "import pandas as pd\n",
        "import numpy as np\n",
        "import matplotlib.pyplot as plt\n",
        "import seaborn as sns\n",
        "plt.rcParams[\"figure.figsize\"] = (9,5)\n",
        "import warnings\n",
        "warnings.filterwarnings('ignore')\n",
        "pd.set_option('display.max_rows', 1000)\n",
        "pd.set_option('display.max_columns', 1000)\n",
        "pd.set_option('display.width', 1000)\n"
      ]
    },
    {
      "cell_type": "markdown",
      "metadata": {
        "heading_collapsed": true,
        "hidden": true,
        "id": "C5lJeTBu1b65"
      },
      "source": [
        "## Ingest Data from links below and make a dataframe\n",
        "- Soldiers Male : https://query.data.world/s/h3pbhckz5ck4rc7qmt2wlknlnn7esr\n",
        "- Soldiers Female : https://query.data.world/s/sq27zz4hawg32yfxksqwijxmpwmynq"
      ]
    },
    {
      "cell_type": "code",
      "execution_count": 185,
      "metadata": {
        "hidden": true,
        "id": "tG5BsWraqX_y"
      },
      "outputs": [],
      "source": [
        "path = \"https://query.data.world/s/h3pbhckz5ck4rc7qmt2wlknlnn7esr\"\n",
        "df_male = pd.read_csv(path, encoding='ISO-8859-1')"
      ]
    },
    {
      "cell_type": "code",
      "execution_count": 186,
      "metadata": {
        "id": "nMwfLOOHtPiI"
      },
      "outputs": [],
      "source": [
        "path = \"https://query.data.world/s/sq27zz4hawg32yfxksqwijxmpwmynq\"\n",
        "df_female = pd.read_csv(path,  encoding='ISO-8859-1')\n"
      ]
    },
    {
      "cell_type": "markdown",
      "metadata": {
        "heading_collapsed": true,
        "hidden": true,
        "id": "TMjCTEG51b67"
      },
      "source": [
        "## Explore Data"
      ]
    },
    {
      "cell_type": "code",
      "execution_count": 187,
      "metadata": {
        "colab": {
          "base_uri": "https://localhost:8080/",
          "height": 444
        },
        "id": "Ogl8VlAPtPiI",
        "outputId": "44bc44f2-00ab-4f3c-e023-032a7814fd02"
      },
      "outputs": [
        {
          "output_type": "execute_result",
          "data": {
            "text/plain": [
              "      subjectid  abdominalextensiondepthsitting  acromialheight  acromionradialelength  anklecircumference  axillaheight  balloffootcircumference  balloffootlength  biacromialbreadth  bicepscircumferenceflexed  bicristalbreadth  bideltoidbreadth  bimalleolarbreadth  bitragionchinarc  bitragionsubmandibulararc  bizygomaticbreadth  buttockcircumference  buttockdepth  buttockheight  buttockkneelength  buttockpopliteallength  calfcircumference  cervicaleheight  chestbreadth  chestcircumference  chestdepth  chestheight  crotchheight  crotchlengthomphalion  crotchlengthposterioromphalion  earbreadth  earlength  earprotrusion  elbowrestheight  eyeheightsitting  footbreadthhorizontal  footlength  forearmcenterofgriplength  forearmcircumferenceflexed  forearmforearmbreadth  forearmhandlength  functionalleglength  handbreadth  handcircumference  handlength  headbreadth  headcircumference  headlength  heelanklecircumference  heelbreadth  hipbreadth  hipbreadthsitting  iliocristaleheight  \\\n",
              "607       12815                             344            1513                    349                 223          1399                      252               202                421                        340               289               536                  70               348                        330                 147                  1146           291            925                662                     540                393             1582           310                1179         269         1340           870                    651                             348          37         67             24              279               844                    102         274                        360                         296                    621                492                 1204           90                217         203          153                596         208                     347           74         376                442                1102   \n",
              "2638      24779                             227            1426                    337                 205          1312                      240               200                416                        330               265               497                  74               328                        321                 143                   971           221            891                604                     501                354             1498           281                1023         243         1331           870                    585                             339          32         60             21              220               790                     99         270                        348                         273                    523                475                 1116           85                201         186          160                547         184                     322           70         334                355                1036   \n",
              "2372      21967                             273            1438                    332                 238          1333                      267               214                422                        383               284               527                  79               334                        330                 149                  1074           254            874                626                     514                411             1510           287                1082         262         1288           831                    613                             347          35         65             22              261               787                    112         287                        345                         315                    623                472                 1172           89                224         190          158                585         199                     348           77         366                395                1066   \n",
              "953       14095                             297            1414                    328                 247          1284                      283               200                426                        408               290               561                  77               330                        320                 146                  1099           283            832                613                     491                422             1487           321                1168         271         1248           788                    731                             409          35         60             19              295               839                    112         273                        329                         332                    645                457                 1109           90                216         195          161                593         204                     350           77         370                423                1011   \n",
              "798       13838                             305            1562                    363                 234          1414                      240               199                420                        396               283               524                  75               344                        348                 151                  1049           256            943                645                     522                418             1632           288                1143         281         1390           905                    678                             383          35         65             19              293               856                     97         274                        357                         329                    642                477                 1204           87                207         182          159                586         205                     356           75         347                384                1122   \n",
              "\n",
              "      interpupillarybreadth  interscyei  interscyeii  kneeheightmidpatella  kneeheightsitting  lateralfemoralepicondyleheight  lateralmalleolusheight  lowerthighcircumference  mentonsellionlength  neckcircumference  neckcircumferencebase  overheadfingertipreachsitting  palmlength  poplitealheight  radialestylionlength  shouldercircumference  shoulderelbowlength  shoulderlength  sittingheight  sleevelengthspinewrist  sleeveoutseam  span  stature  suprasternaleheight  tenthribheight  thighcircumference  thighclearance  thumbtipreach  tibialheight  tragiontopofhead  trochanterionheight  verticaltrunkcircumferenceusa  waistbacklength  waistbreadth  waistcircumference  waistdepth  waistfrontlengthsitting  waistheightomphalion  weightkg  wristcircumference  wristheight Gender       Date  Installation            Component                  Branch PrimaryMOS SubjectsBirthLocation  SubjectNumericRace                Ethnicity  DODRace  Age  Heightin  Weightlbs WritingPreference  \n",
              "607                     675         448          457                   509                571                             493                      66                      412                  125                448                    485                           1535         120              440                   273                   1232                  377             147            960                     910            614  1916     1814                 1488            1172                 721             199            842           481               130                  931                           1839              560           391                1207         344                      479                  1033      1077                 182          888   Male   6-Dec-10    Fort Bliss  Army National Guard  Combat Service Support        25U         Massachusetts                   1                      NaN        1   49        72        231        Right hand  \n",
              "2638                    630         421          425                   486                542                             487                      63                      382                  125                355                    391                           1409         110              436                   271                   1135                  367             160            888                     875            606  1791     1736                 1425            1111                 599             159            819           460               123                  902                           1583              453           328                 895         206                      372                  1062       738                 152          820   Male  21-Oct-11    Fort Bragg         Regular Army             Combat Arms        25A                 India                   8        East/Asian Indian        4   36        69        165        Right hand  \n",
              "2372                    630         460          480                   495                560                             481                      75                      430                  115                402                    440                           1385         114              425                   257                   1191                  352             150            904                     892            578  1772     1751                 1443            1124                 661             191            856           456               136                  895                           1678              479           335                 998         251                      365                  1035       913                 177          861   Male  11-Aug-11  Fort Stewart         Regular Army             Combat Arms        11C               Florida                  63  Indonesian Puerto Rican        3   20        70        210        Right hand  \n",
              "953                     575         480          481                   445                528                             469                      75                      443                  126                413                    448                           1453         114              390                   246                   1266                  357             153            959                     864            568  1780     1737                 1406            1064                 685             199            774           437               137                  838                           1802              486           362                1034         265                      414                  1011      1016                 178          851   Male  30-Jan-11    Fort Bliss  Army National Guard          Combat Support        42A            Washington                   1                      NaN        1   30        68        225        Right hand  \n",
              "798                     635         460          461                   509                583                             513                      77                      430                  130                447                    485                           1482         108              444                   272                   1222                  392             142            971                     930            620  1884     1857                 1541            1180                 636             199            879           499               131                  965                           1844              527           346                1070         276                      434                  1125      1040                 180          938   Male  13-Jan-11    Fort Bliss         Regular Army  Combat Service Support        35Z               Georgia                   1                      NaN        1   42        74        220        Right hand  "
            ],
            "text/html": [
              "\n",
              "  <div id=\"df-fd568b88-14a9-497b-8ed2-5725f1b1b46a\">\n",
              "    <div class=\"colab-df-container\">\n",
              "      <div>\n",
              "<style scoped>\n",
              "    .dataframe tbody tr th:only-of-type {\n",
              "        vertical-align: middle;\n",
              "    }\n",
              "\n",
              "    .dataframe tbody tr th {\n",
              "        vertical-align: top;\n",
              "    }\n",
              "\n",
              "    .dataframe thead th {\n",
              "        text-align: right;\n",
              "    }\n",
              "</style>\n",
              "<table border=\"1\" class=\"dataframe\">\n",
              "  <thead>\n",
              "    <tr style=\"text-align: right;\">\n",
              "      <th></th>\n",
              "      <th>subjectid</th>\n",
              "      <th>abdominalextensiondepthsitting</th>\n",
              "      <th>acromialheight</th>\n",
              "      <th>acromionradialelength</th>\n",
              "      <th>anklecircumference</th>\n",
              "      <th>axillaheight</th>\n",
              "      <th>balloffootcircumference</th>\n",
              "      <th>balloffootlength</th>\n",
              "      <th>biacromialbreadth</th>\n",
              "      <th>bicepscircumferenceflexed</th>\n",
              "      <th>bicristalbreadth</th>\n",
              "      <th>bideltoidbreadth</th>\n",
              "      <th>bimalleolarbreadth</th>\n",
              "      <th>bitragionchinarc</th>\n",
              "      <th>bitragionsubmandibulararc</th>\n",
              "      <th>bizygomaticbreadth</th>\n",
              "      <th>buttockcircumference</th>\n",
              "      <th>buttockdepth</th>\n",
              "      <th>buttockheight</th>\n",
              "      <th>buttockkneelength</th>\n",
              "      <th>buttockpopliteallength</th>\n",
              "      <th>calfcircumference</th>\n",
              "      <th>cervicaleheight</th>\n",
              "      <th>chestbreadth</th>\n",
              "      <th>chestcircumference</th>\n",
              "      <th>chestdepth</th>\n",
              "      <th>chestheight</th>\n",
              "      <th>crotchheight</th>\n",
              "      <th>crotchlengthomphalion</th>\n",
              "      <th>crotchlengthposterioromphalion</th>\n",
              "      <th>earbreadth</th>\n",
              "      <th>earlength</th>\n",
              "      <th>earprotrusion</th>\n",
              "      <th>elbowrestheight</th>\n",
              "      <th>eyeheightsitting</th>\n",
              "      <th>footbreadthhorizontal</th>\n",
              "      <th>footlength</th>\n",
              "      <th>forearmcenterofgriplength</th>\n",
              "      <th>forearmcircumferenceflexed</th>\n",
              "      <th>forearmforearmbreadth</th>\n",
              "      <th>forearmhandlength</th>\n",
              "      <th>functionalleglength</th>\n",
              "      <th>handbreadth</th>\n",
              "      <th>handcircumference</th>\n",
              "      <th>handlength</th>\n",
              "      <th>headbreadth</th>\n",
              "      <th>headcircumference</th>\n",
              "      <th>headlength</th>\n",
              "      <th>heelanklecircumference</th>\n",
              "      <th>heelbreadth</th>\n",
              "      <th>hipbreadth</th>\n",
              "      <th>hipbreadthsitting</th>\n",
              "      <th>iliocristaleheight</th>\n",
              "      <th>interpupillarybreadth</th>\n",
              "      <th>interscyei</th>\n",
              "      <th>interscyeii</th>\n",
              "      <th>kneeheightmidpatella</th>\n",
              "      <th>kneeheightsitting</th>\n",
              "      <th>lateralfemoralepicondyleheight</th>\n",
              "      <th>lateralmalleolusheight</th>\n",
              "      <th>lowerthighcircumference</th>\n",
              "      <th>mentonsellionlength</th>\n",
              "      <th>neckcircumference</th>\n",
              "      <th>neckcircumferencebase</th>\n",
              "      <th>overheadfingertipreachsitting</th>\n",
              "      <th>palmlength</th>\n",
              "      <th>poplitealheight</th>\n",
              "      <th>radialestylionlength</th>\n",
              "      <th>shouldercircumference</th>\n",
              "      <th>shoulderelbowlength</th>\n",
              "      <th>shoulderlength</th>\n",
              "      <th>sittingheight</th>\n",
              "      <th>sleevelengthspinewrist</th>\n",
              "      <th>sleeveoutseam</th>\n",
              "      <th>span</th>\n",
              "      <th>stature</th>\n",
              "      <th>suprasternaleheight</th>\n",
              "      <th>tenthribheight</th>\n",
              "      <th>thighcircumference</th>\n",
              "      <th>thighclearance</th>\n",
              "      <th>thumbtipreach</th>\n",
              "      <th>tibialheight</th>\n",
              "      <th>tragiontopofhead</th>\n",
              "      <th>trochanterionheight</th>\n",
              "      <th>verticaltrunkcircumferenceusa</th>\n",
              "      <th>waistbacklength</th>\n",
              "      <th>waistbreadth</th>\n",
              "      <th>waistcircumference</th>\n",
              "      <th>waistdepth</th>\n",
              "      <th>waistfrontlengthsitting</th>\n",
              "      <th>waistheightomphalion</th>\n",
              "      <th>weightkg</th>\n",
              "      <th>wristcircumference</th>\n",
              "      <th>wristheight</th>\n",
              "      <th>Gender</th>\n",
              "      <th>Date</th>\n",
              "      <th>Installation</th>\n",
              "      <th>Component</th>\n",
              "      <th>Branch</th>\n",
              "      <th>PrimaryMOS</th>\n",
              "      <th>SubjectsBirthLocation</th>\n",
              "      <th>SubjectNumericRace</th>\n",
              "      <th>Ethnicity</th>\n",
              "      <th>DODRace</th>\n",
              "      <th>Age</th>\n",
              "      <th>Heightin</th>\n",
              "      <th>Weightlbs</th>\n",
              "      <th>WritingPreference</th>\n",
              "    </tr>\n",
              "  </thead>\n",
              "  <tbody>\n",
              "    <tr>\n",
              "      <th>607</th>\n",
              "      <td>12815</td>\n",
              "      <td>344</td>\n",
              "      <td>1513</td>\n",
              "      <td>349</td>\n",
              "      <td>223</td>\n",
              "      <td>1399</td>\n",
              "      <td>252</td>\n",
              "      <td>202</td>\n",
              "      <td>421</td>\n",
              "      <td>340</td>\n",
              "      <td>289</td>\n",
              "      <td>536</td>\n",
              "      <td>70</td>\n",
              "      <td>348</td>\n",
              "      <td>330</td>\n",
              "      <td>147</td>\n",
              "      <td>1146</td>\n",
              "      <td>291</td>\n",
              "      <td>925</td>\n",
              "      <td>662</td>\n",
              "      <td>540</td>\n",
              "      <td>393</td>\n",
              "      <td>1582</td>\n",
              "      <td>310</td>\n",
              "      <td>1179</td>\n",
              "      <td>269</td>\n",
              "      <td>1340</td>\n",
              "      <td>870</td>\n",
              "      <td>651</td>\n",
              "      <td>348</td>\n",
              "      <td>37</td>\n",
              "      <td>67</td>\n",
              "      <td>24</td>\n",
              "      <td>279</td>\n",
              "      <td>844</td>\n",
              "      <td>102</td>\n",
              "      <td>274</td>\n",
              "      <td>360</td>\n",
              "      <td>296</td>\n",
              "      <td>621</td>\n",
              "      <td>492</td>\n",
              "      <td>1204</td>\n",
              "      <td>90</td>\n",
              "      <td>217</td>\n",
              "      <td>203</td>\n",
              "      <td>153</td>\n",
              "      <td>596</td>\n",
              "      <td>208</td>\n",
              "      <td>347</td>\n",
              "      <td>74</td>\n",
              "      <td>376</td>\n",
              "      <td>442</td>\n",
              "      <td>1102</td>\n",
              "      <td>675</td>\n",
              "      <td>448</td>\n",
              "      <td>457</td>\n",
              "      <td>509</td>\n",
              "      <td>571</td>\n",
              "      <td>493</td>\n",
              "      <td>66</td>\n",
              "      <td>412</td>\n",
              "      <td>125</td>\n",
              "      <td>448</td>\n",
              "      <td>485</td>\n",
              "      <td>1535</td>\n",
              "      <td>120</td>\n",
              "      <td>440</td>\n",
              "      <td>273</td>\n",
              "      <td>1232</td>\n",
              "      <td>377</td>\n",
              "      <td>147</td>\n",
              "      <td>960</td>\n",
              "      <td>910</td>\n",
              "      <td>614</td>\n",
              "      <td>1916</td>\n",
              "      <td>1814</td>\n",
              "      <td>1488</td>\n",
              "      <td>1172</td>\n",
              "      <td>721</td>\n",
              "      <td>199</td>\n",
              "      <td>842</td>\n",
              "      <td>481</td>\n",
              "      <td>130</td>\n",
              "      <td>931</td>\n",
              "      <td>1839</td>\n",
              "      <td>560</td>\n",
              "      <td>391</td>\n",
              "      <td>1207</td>\n",
              "      <td>344</td>\n",
              "      <td>479</td>\n",
              "      <td>1033</td>\n",
              "      <td>1077</td>\n",
              "      <td>182</td>\n",
              "      <td>888</td>\n",
              "      <td>Male</td>\n",
              "      <td>6-Dec-10</td>\n",
              "      <td>Fort Bliss</td>\n",
              "      <td>Army National Guard</td>\n",
              "      <td>Combat Service Support</td>\n",
              "      <td>25U</td>\n",
              "      <td>Massachusetts</td>\n",
              "      <td>1</td>\n",
              "      <td>NaN</td>\n",
              "      <td>1</td>\n",
              "      <td>49</td>\n",
              "      <td>72</td>\n",
              "      <td>231</td>\n",
              "      <td>Right hand</td>\n",
              "    </tr>\n",
              "    <tr>\n",
              "      <th>2638</th>\n",
              "      <td>24779</td>\n",
              "      <td>227</td>\n",
              "      <td>1426</td>\n",
              "      <td>337</td>\n",
              "      <td>205</td>\n",
              "      <td>1312</td>\n",
              "      <td>240</td>\n",
              "      <td>200</td>\n",
              "      <td>416</td>\n",
              "      <td>330</td>\n",
              "      <td>265</td>\n",
              "      <td>497</td>\n",
              "      <td>74</td>\n",
              "      <td>328</td>\n",
              "      <td>321</td>\n",
              "      <td>143</td>\n",
              "      <td>971</td>\n",
              "      <td>221</td>\n",
              "      <td>891</td>\n",
              "      <td>604</td>\n",
              "      <td>501</td>\n",
              "      <td>354</td>\n",
              "      <td>1498</td>\n",
              "      <td>281</td>\n",
              "      <td>1023</td>\n",
              "      <td>243</td>\n",
              "      <td>1331</td>\n",
              "      <td>870</td>\n",
              "      <td>585</td>\n",
              "      <td>339</td>\n",
              "      <td>32</td>\n",
              "      <td>60</td>\n",
              "      <td>21</td>\n",
              "      <td>220</td>\n",
              "      <td>790</td>\n",
              "      <td>99</td>\n",
              "      <td>270</td>\n",
              "      <td>348</td>\n",
              "      <td>273</td>\n",
              "      <td>523</td>\n",
              "      <td>475</td>\n",
              "      <td>1116</td>\n",
              "      <td>85</td>\n",
              "      <td>201</td>\n",
              "      <td>186</td>\n",
              "      <td>160</td>\n",
              "      <td>547</td>\n",
              "      <td>184</td>\n",
              "      <td>322</td>\n",
              "      <td>70</td>\n",
              "      <td>334</td>\n",
              "      <td>355</td>\n",
              "      <td>1036</td>\n",
              "      <td>630</td>\n",
              "      <td>421</td>\n",
              "      <td>425</td>\n",
              "      <td>486</td>\n",
              "      <td>542</td>\n",
              "      <td>487</td>\n",
              "      <td>63</td>\n",
              "      <td>382</td>\n",
              "      <td>125</td>\n",
              "      <td>355</td>\n",
              "      <td>391</td>\n",
              "      <td>1409</td>\n",
              "      <td>110</td>\n",
              "      <td>436</td>\n",
              "      <td>271</td>\n",
              "      <td>1135</td>\n",
              "      <td>367</td>\n",
              "      <td>160</td>\n",
              "      <td>888</td>\n",
              "      <td>875</td>\n",
              "      <td>606</td>\n",
              "      <td>1791</td>\n",
              "      <td>1736</td>\n",
              "      <td>1425</td>\n",
              "      <td>1111</td>\n",
              "      <td>599</td>\n",
              "      <td>159</td>\n",
              "      <td>819</td>\n",
              "      <td>460</td>\n",
              "      <td>123</td>\n",
              "      <td>902</td>\n",
              "      <td>1583</td>\n",
              "      <td>453</td>\n",
              "      <td>328</td>\n",
              "      <td>895</td>\n",
              "      <td>206</td>\n",
              "      <td>372</td>\n",
              "      <td>1062</td>\n",
              "      <td>738</td>\n",
              "      <td>152</td>\n",
              "      <td>820</td>\n",
              "      <td>Male</td>\n",
              "      <td>21-Oct-11</td>\n",
              "      <td>Fort Bragg</td>\n",
              "      <td>Regular Army</td>\n",
              "      <td>Combat Arms</td>\n",
              "      <td>25A</td>\n",
              "      <td>India</td>\n",
              "      <td>8</td>\n",
              "      <td>East/Asian Indian</td>\n",
              "      <td>4</td>\n",
              "      <td>36</td>\n",
              "      <td>69</td>\n",
              "      <td>165</td>\n",
              "      <td>Right hand</td>\n",
              "    </tr>\n",
              "    <tr>\n",
              "      <th>2372</th>\n",
              "      <td>21967</td>\n",
              "      <td>273</td>\n",
              "      <td>1438</td>\n",
              "      <td>332</td>\n",
              "      <td>238</td>\n",
              "      <td>1333</td>\n",
              "      <td>267</td>\n",
              "      <td>214</td>\n",
              "      <td>422</td>\n",
              "      <td>383</td>\n",
              "      <td>284</td>\n",
              "      <td>527</td>\n",
              "      <td>79</td>\n",
              "      <td>334</td>\n",
              "      <td>330</td>\n",
              "      <td>149</td>\n",
              "      <td>1074</td>\n",
              "      <td>254</td>\n",
              "      <td>874</td>\n",
              "      <td>626</td>\n",
              "      <td>514</td>\n",
              "      <td>411</td>\n",
              "      <td>1510</td>\n",
              "      <td>287</td>\n",
              "      <td>1082</td>\n",
              "      <td>262</td>\n",
              "      <td>1288</td>\n",
              "      <td>831</td>\n",
              "      <td>613</td>\n",
              "      <td>347</td>\n",
              "      <td>35</td>\n",
              "      <td>65</td>\n",
              "      <td>22</td>\n",
              "      <td>261</td>\n",
              "      <td>787</td>\n",
              "      <td>112</td>\n",
              "      <td>287</td>\n",
              "      <td>345</td>\n",
              "      <td>315</td>\n",
              "      <td>623</td>\n",
              "      <td>472</td>\n",
              "      <td>1172</td>\n",
              "      <td>89</td>\n",
              "      <td>224</td>\n",
              "      <td>190</td>\n",
              "      <td>158</td>\n",
              "      <td>585</td>\n",
              "      <td>199</td>\n",
              "      <td>348</td>\n",
              "      <td>77</td>\n",
              "      <td>366</td>\n",
              "      <td>395</td>\n",
              "      <td>1066</td>\n",
              "      <td>630</td>\n",
              "      <td>460</td>\n",
              "      <td>480</td>\n",
              "      <td>495</td>\n",
              "      <td>560</td>\n",
              "      <td>481</td>\n",
              "      <td>75</td>\n",
              "      <td>430</td>\n",
              "      <td>115</td>\n",
              "      <td>402</td>\n",
              "      <td>440</td>\n",
              "      <td>1385</td>\n",
              "      <td>114</td>\n",
              "      <td>425</td>\n",
              "      <td>257</td>\n",
              "      <td>1191</td>\n",
              "      <td>352</td>\n",
              "      <td>150</td>\n",
              "      <td>904</td>\n",
              "      <td>892</td>\n",
              "      <td>578</td>\n",
              "      <td>1772</td>\n",
              "      <td>1751</td>\n",
              "      <td>1443</td>\n",
              "      <td>1124</td>\n",
              "      <td>661</td>\n",
              "      <td>191</td>\n",
              "      <td>856</td>\n",
              "      <td>456</td>\n",
              "      <td>136</td>\n",
              "      <td>895</td>\n",
              "      <td>1678</td>\n",
              "      <td>479</td>\n",
              "      <td>335</td>\n",
              "      <td>998</td>\n",
              "      <td>251</td>\n",
              "      <td>365</td>\n",
              "      <td>1035</td>\n",
              "      <td>913</td>\n",
              "      <td>177</td>\n",
              "      <td>861</td>\n",
              "      <td>Male</td>\n",
              "      <td>11-Aug-11</td>\n",
              "      <td>Fort Stewart</td>\n",
              "      <td>Regular Army</td>\n",
              "      <td>Combat Arms</td>\n",
              "      <td>11C</td>\n",
              "      <td>Florida</td>\n",
              "      <td>63</td>\n",
              "      <td>Indonesian Puerto Rican</td>\n",
              "      <td>3</td>\n",
              "      <td>20</td>\n",
              "      <td>70</td>\n",
              "      <td>210</td>\n",
              "      <td>Right hand</td>\n",
              "    </tr>\n",
              "    <tr>\n",
              "      <th>953</th>\n",
              "      <td>14095</td>\n",
              "      <td>297</td>\n",
              "      <td>1414</td>\n",
              "      <td>328</td>\n",
              "      <td>247</td>\n",
              "      <td>1284</td>\n",
              "      <td>283</td>\n",
              "      <td>200</td>\n",
              "      <td>426</td>\n",
              "      <td>408</td>\n",
              "      <td>290</td>\n",
              "      <td>561</td>\n",
              "      <td>77</td>\n",
              "      <td>330</td>\n",
              "      <td>320</td>\n",
              "      <td>146</td>\n",
              "      <td>1099</td>\n",
              "      <td>283</td>\n",
              "      <td>832</td>\n",
              "      <td>613</td>\n",
              "      <td>491</td>\n",
              "      <td>422</td>\n",
              "      <td>1487</td>\n",
              "      <td>321</td>\n",
              "      <td>1168</td>\n",
              "      <td>271</td>\n",
              "      <td>1248</td>\n",
              "      <td>788</td>\n",
              "      <td>731</td>\n",
              "      <td>409</td>\n",
              "      <td>35</td>\n",
              "      <td>60</td>\n",
              "      <td>19</td>\n",
              "      <td>295</td>\n",
              "      <td>839</td>\n",
              "      <td>112</td>\n",
              "      <td>273</td>\n",
              "      <td>329</td>\n",
              "      <td>332</td>\n",
              "      <td>645</td>\n",
              "      <td>457</td>\n",
              "      <td>1109</td>\n",
              "      <td>90</td>\n",
              "      <td>216</td>\n",
              "      <td>195</td>\n",
              "      <td>161</td>\n",
              "      <td>593</td>\n",
              "      <td>204</td>\n",
              "      <td>350</td>\n",
              "      <td>77</td>\n",
              "      <td>370</td>\n",
              "      <td>423</td>\n",
              "      <td>1011</td>\n",
              "      <td>575</td>\n",
              "      <td>480</td>\n",
              "      <td>481</td>\n",
              "      <td>445</td>\n",
              "      <td>528</td>\n",
              "      <td>469</td>\n",
              "      <td>75</td>\n",
              "      <td>443</td>\n",
              "      <td>126</td>\n",
              "      <td>413</td>\n",
              "      <td>448</td>\n",
              "      <td>1453</td>\n",
              "      <td>114</td>\n",
              "      <td>390</td>\n",
              "      <td>246</td>\n",
              "      <td>1266</td>\n",
              "      <td>357</td>\n",
              "      <td>153</td>\n",
              "      <td>959</td>\n",
              "      <td>864</td>\n",
              "      <td>568</td>\n",
              "      <td>1780</td>\n",
              "      <td>1737</td>\n",
              "      <td>1406</td>\n",
              "      <td>1064</td>\n",
              "      <td>685</td>\n",
              "      <td>199</td>\n",
              "      <td>774</td>\n",
              "      <td>437</td>\n",
              "      <td>137</td>\n",
              "      <td>838</td>\n",
              "      <td>1802</td>\n",
              "      <td>486</td>\n",
              "      <td>362</td>\n",
              "      <td>1034</td>\n",
              "      <td>265</td>\n",
              "      <td>414</td>\n",
              "      <td>1011</td>\n",
              "      <td>1016</td>\n",
              "      <td>178</td>\n",
              "      <td>851</td>\n",
              "      <td>Male</td>\n",
              "      <td>30-Jan-11</td>\n",
              "      <td>Fort Bliss</td>\n",
              "      <td>Army National Guard</td>\n",
              "      <td>Combat Support</td>\n",
              "      <td>42A</td>\n",
              "      <td>Washington</td>\n",
              "      <td>1</td>\n",
              "      <td>NaN</td>\n",
              "      <td>1</td>\n",
              "      <td>30</td>\n",
              "      <td>68</td>\n",
              "      <td>225</td>\n",
              "      <td>Right hand</td>\n",
              "    </tr>\n",
              "    <tr>\n",
              "      <th>798</th>\n",
              "      <td>13838</td>\n",
              "      <td>305</td>\n",
              "      <td>1562</td>\n",
              "      <td>363</td>\n",
              "      <td>234</td>\n",
              "      <td>1414</td>\n",
              "      <td>240</td>\n",
              "      <td>199</td>\n",
              "      <td>420</td>\n",
              "      <td>396</td>\n",
              "      <td>283</td>\n",
              "      <td>524</td>\n",
              "      <td>75</td>\n",
              "      <td>344</td>\n",
              "      <td>348</td>\n",
              "      <td>151</td>\n",
              "      <td>1049</td>\n",
              "      <td>256</td>\n",
              "      <td>943</td>\n",
              "      <td>645</td>\n",
              "      <td>522</td>\n",
              "      <td>418</td>\n",
              "      <td>1632</td>\n",
              "      <td>288</td>\n",
              "      <td>1143</td>\n",
              "      <td>281</td>\n",
              "      <td>1390</td>\n",
              "      <td>905</td>\n",
              "      <td>678</td>\n",
              "      <td>383</td>\n",
              "      <td>35</td>\n",
              "      <td>65</td>\n",
              "      <td>19</td>\n",
              "      <td>293</td>\n",
              "      <td>856</td>\n",
              "      <td>97</td>\n",
              "      <td>274</td>\n",
              "      <td>357</td>\n",
              "      <td>329</td>\n",
              "      <td>642</td>\n",
              "      <td>477</td>\n",
              "      <td>1204</td>\n",
              "      <td>87</td>\n",
              "      <td>207</td>\n",
              "      <td>182</td>\n",
              "      <td>159</td>\n",
              "      <td>586</td>\n",
              "      <td>205</td>\n",
              "      <td>356</td>\n",
              "      <td>75</td>\n",
              "      <td>347</td>\n",
              "      <td>384</td>\n",
              "      <td>1122</td>\n",
              "      <td>635</td>\n",
              "      <td>460</td>\n",
              "      <td>461</td>\n",
              "      <td>509</td>\n",
              "      <td>583</td>\n",
              "      <td>513</td>\n",
              "      <td>77</td>\n",
              "      <td>430</td>\n",
              "      <td>130</td>\n",
              "      <td>447</td>\n",
              "      <td>485</td>\n",
              "      <td>1482</td>\n",
              "      <td>108</td>\n",
              "      <td>444</td>\n",
              "      <td>272</td>\n",
              "      <td>1222</td>\n",
              "      <td>392</td>\n",
              "      <td>142</td>\n",
              "      <td>971</td>\n",
              "      <td>930</td>\n",
              "      <td>620</td>\n",
              "      <td>1884</td>\n",
              "      <td>1857</td>\n",
              "      <td>1541</td>\n",
              "      <td>1180</td>\n",
              "      <td>636</td>\n",
              "      <td>199</td>\n",
              "      <td>879</td>\n",
              "      <td>499</td>\n",
              "      <td>131</td>\n",
              "      <td>965</td>\n",
              "      <td>1844</td>\n",
              "      <td>527</td>\n",
              "      <td>346</td>\n",
              "      <td>1070</td>\n",
              "      <td>276</td>\n",
              "      <td>434</td>\n",
              "      <td>1125</td>\n",
              "      <td>1040</td>\n",
              "      <td>180</td>\n",
              "      <td>938</td>\n",
              "      <td>Male</td>\n",
              "      <td>13-Jan-11</td>\n",
              "      <td>Fort Bliss</td>\n",
              "      <td>Regular Army</td>\n",
              "      <td>Combat Service Support</td>\n",
              "      <td>35Z</td>\n",
              "      <td>Georgia</td>\n",
              "      <td>1</td>\n",
              "      <td>NaN</td>\n",
              "      <td>1</td>\n",
              "      <td>42</td>\n",
              "      <td>74</td>\n",
              "      <td>220</td>\n",
              "      <td>Right hand</td>\n",
              "    </tr>\n",
              "  </tbody>\n",
              "</table>\n",
              "</div>\n",
              "      <button class=\"colab-df-convert\" onclick=\"convertToInteractive('df-fd568b88-14a9-497b-8ed2-5725f1b1b46a')\"\n",
              "              title=\"Convert this dataframe to an interactive table.\"\n",
              "              style=\"display:none;\">\n",
              "        \n",
              "  <svg xmlns=\"http://www.w3.org/2000/svg\" height=\"24px\"viewBox=\"0 0 24 24\"\n",
              "       width=\"24px\">\n",
              "    <path d=\"M0 0h24v24H0V0z\" fill=\"none\"/>\n",
              "    <path d=\"M18.56 5.44l.94 2.06.94-2.06 2.06-.94-2.06-.94-.94-2.06-.94 2.06-2.06.94zm-11 1L8.5 8.5l.94-2.06 2.06-.94-2.06-.94L8.5 2.5l-.94 2.06-2.06.94zm10 10l.94 2.06.94-2.06 2.06-.94-2.06-.94-.94-2.06-.94 2.06-2.06.94z\"/><path d=\"M17.41 7.96l-1.37-1.37c-.4-.4-.92-.59-1.43-.59-.52 0-1.04.2-1.43.59L10.3 9.45l-7.72 7.72c-.78.78-.78 2.05 0 2.83L4 21.41c.39.39.9.59 1.41.59.51 0 1.02-.2 1.41-.59l7.78-7.78 2.81-2.81c.8-.78.8-2.07 0-2.86zM5.41 20L4 18.59l7.72-7.72 1.47 1.35L5.41 20z\"/>\n",
              "  </svg>\n",
              "      </button>\n",
              "      \n",
              "  <style>\n",
              "    .colab-df-container {\n",
              "      display:flex;\n",
              "      flex-wrap:wrap;\n",
              "      gap: 12px;\n",
              "    }\n",
              "\n",
              "    .colab-df-convert {\n",
              "      background-color: #E8F0FE;\n",
              "      border: none;\n",
              "      border-radius: 50%;\n",
              "      cursor: pointer;\n",
              "      display: none;\n",
              "      fill: #1967D2;\n",
              "      height: 32px;\n",
              "      padding: 0 0 0 0;\n",
              "      width: 32px;\n",
              "    }\n",
              "\n",
              "    .colab-df-convert:hover {\n",
              "      background-color: #E2EBFA;\n",
              "      box-shadow: 0px 1px 2px rgba(60, 64, 67, 0.3), 0px 1px 3px 1px rgba(60, 64, 67, 0.15);\n",
              "      fill: #174EA6;\n",
              "    }\n",
              "\n",
              "    [theme=dark] .colab-df-convert {\n",
              "      background-color: #3B4455;\n",
              "      fill: #D2E3FC;\n",
              "    }\n",
              "\n",
              "    [theme=dark] .colab-df-convert:hover {\n",
              "      background-color: #434B5C;\n",
              "      box-shadow: 0px 1px 3px 1px rgba(0, 0, 0, 0.15);\n",
              "      filter: drop-shadow(0px 1px 2px rgba(0, 0, 0, 0.3));\n",
              "      fill: #FFFFFF;\n",
              "    }\n",
              "  </style>\n",
              "\n",
              "      <script>\n",
              "        const buttonEl =\n",
              "          document.querySelector('#df-fd568b88-14a9-497b-8ed2-5725f1b1b46a button.colab-df-convert');\n",
              "        buttonEl.style.display =\n",
              "          google.colab.kernel.accessAllowed ? 'block' : 'none';\n",
              "\n",
              "        async function convertToInteractive(key) {\n",
              "          const element = document.querySelector('#df-fd568b88-14a9-497b-8ed2-5725f1b1b46a');\n",
              "          const dataTable =\n",
              "            await google.colab.kernel.invokeFunction('convertToInteractive',\n",
              "                                                     [key], {});\n",
              "          if (!dataTable) return;\n",
              "\n",
              "          const docLinkHtml = 'Like what you see? Visit the ' +\n",
              "            '<a target=\"_blank\" href=https://colab.research.google.com/notebooks/data_table.ipynb>data table notebook</a>'\n",
              "            + ' to learn more about interactive tables.';\n",
              "          element.innerHTML = '';\n",
              "          dataTable['output_type'] = 'display_data';\n",
              "          await google.colab.output.renderOutput(dataTable, element);\n",
              "          const docLink = document.createElement('div');\n",
              "          docLink.innerHTML = docLinkHtml;\n",
              "          element.appendChild(docLink);\n",
              "        }\n",
              "      </script>\n",
              "    </div>\n",
              "  </div>\n",
              "  "
            ]
          },
          "metadata": {},
          "execution_count": 187
        }
      ],
      "source": [
        "df_male.sample(5)"
      ]
    },
    {
      "cell_type": "code",
      "execution_count": 188,
      "metadata": {
        "colab": {
          "base_uri": "https://localhost:8080/"
        },
        "id": "3ogaMud1tPiI",
        "outputId": "d81cb30b-8146-4391-a505-9abc8f00bef2"
      },
      "outputs": [
        {
          "output_type": "execute_result",
          "data": {
            "text/plain": [
              "Index(['subjectid', 'abdominalextensiondepthsitting', 'acromialheight', 'acromionradialelength', 'anklecircumference', 'axillaheight', 'balloffootcircumference', 'balloffootlength', 'biacromialbreadth', 'bicepscircumferenceflexed',\n",
              "       ...\n",
              "       'Branch', 'PrimaryMOS', 'SubjectsBirthLocation', 'SubjectNumericRace', 'Ethnicity', 'DODRace', 'Age', 'Heightin', 'Weightlbs', 'WritingPreference'], dtype='object', length=108)"
            ]
          },
          "metadata": {},
          "execution_count": 188
        }
      ],
      "source": [
        "df_male.columns"
      ]
    },
    {
      "cell_type": "code",
      "source": [
        "df_male.info()"
      ],
      "metadata": {
        "colab": {
          "base_uri": "https://localhost:8080/"
        },
        "id": "vIf23WAjuKNB",
        "outputId": "61c9daf9-a860-4407-efcd-032077c3cc33"
      },
      "execution_count": 189,
      "outputs": [
        {
          "output_type": "stream",
          "name": "stdout",
          "text": [
            "<class 'pandas.core.frame.DataFrame'>\n",
            "RangeIndex: 4082 entries, 0 to 4081\n",
            "Columns: 108 entries, subjectid to WritingPreference\n",
            "dtypes: int64(99), object(9)\n",
            "memory usage: 3.4+ MB\n"
          ]
        }
      ]
    },
    {
      "cell_type": "code",
      "execution_count": 190,
      "metadata": {
        "colab": {
          "base_uri": "https://localhost:8080/"
        },
        "id": "C4PCO_o3tPiJ",
        "outputId": "7e06c84b-5fa2-4081-f84c-3b9e4e8ac0c4"
      },
      "outputs": [
        {
          "output_type": "execute_result",
          "data": {
            "text/plain": [
              "Index(['SubjectId', 'abdominalextensiondepthsitting', 'acromialheight', 'acromionradialelength', 'anklecircumference', 'axillaheight', 'balloffootcircumference', 'balloffootlength', 'biacromialbreadth', 'bicepscircumferenceflexed',\n",
              "       ...\n",
              "       'Branch', 'PrimaryMOS', 'SubjectsBirthLocation', 'SubjectNumericRace', 'Ethnicity', 'DODRace', 'Age', 'Heightin', 'Weightlbs', 'WritingPreference'], dtype='object', length=108)"
            ]
          },
          "metadata": {},
          "execution_count": 190
        }
      ],
      "source": [
        "df_female.columns"
      ]
    },
    {
      "cell_type": "code",
      "execution_count": 191,
      "metadata": {
        "colab": {
          "base_uri": "https://localhost:8080/"
        },
        "id": "3k8LtJ7AtPiJ",
        "outputId": "dd357658-646e-4c55-adfc-6fbf328652f3"
      },
      "outputs": [
        {
          "output_type": "execute_result",
          "data": {
            "text/plain": [
              "(1986, 108)"
            ]
          },
          "metadata": {},
          "execution_count": 191
        }
      ],
      "source": [
        "df_female.shape"
      ]
    },
    {
      "cell_type": "code",
      "source": [
        "df_female.info()"
      ],
      "metadata": {
        "colab": {
          "base_uri": "https://localhost:8080/"
        },
        "id": "4c5TAkOZuWh7",
        "outputId": "380916bc-08bb-473a-817d-3f97e4671110"
      },
      "execution_count": 192,
      "outputs": [
        {
          "output_type": "stream",
          "name": "stdout",
          "text": [
            "<class 'pandas.core.frame.DataFrame'>\n",
            "RangeIndex: 1986 entries, 0 to 1985\n",
            "Columns: 108 entries, SubjectId to WritingPreference\n",
            "dtypes: int64(99), object(9)\n",
            "memory usage: 1.6+ MB\n"
          ]
        }
      ]
    },
    {
      "cell_type": "code",
      "execution_count": 193,
      "metadata": {
        "colab": {
          "base_uri": "https://localhost:8080/"
        },
        "id": "OXF_pATGtPiJ",
        "outputId": "2fce9435-dc89-465e-9bcc-ea8012b1ce5c"
      },
      "outputs": [
        {
          "output_type": "execute_result",
          "data": {
            "text/plain": [
              "SubjectId                            0\n",
              "abdominalextensiondepthsitting       0\n",
              "acromialheight                       0\n",
              "acromionradialelength                0\n",
              "anklecircumference                   0\n",
              "axillaheight                         0\n",
              "balloffootcircumference              0\n",
              "balloffootlength                     0\n",
              "biacromialbreadth                    0\n",
              "bicepscircumferenceflexed            0\n",
              "bicristalbreadth                     0\n",
              "bideltoidbreadth                     0\n",
              "bimalleolarbreadth                   0\n",
              "bitragionchinarc                     0\n",
              "bitragionsubmandibulararc            0\n",
              "bizygomaticbreadth                   0\n",
              "buttockcircumference                 0\n",
              "buttockdepth                         0\n",
              "buttockheight                        0\n",
              "buttockkneelength                    0\n",
              "buttockpopliteallength               0\n",
              "calfcircumference                    0\n",
              "cervicaleheight                      0\n",
              "chestbreadth                         0\n",
              "chestcircumference                   0\n",
              "chestdepth                           0\n",
              "chestheight                          0\n",
              "crotchheight                         0\n",
              "crotchlengthomphalion                0\n",
              "crotchlengthposterioromphalion       0\n",
              "earbreadth                           0\n",
              "earlength                            0\n",
              "earprotrusion                        0\n",
              "elbowrestheight                      0\n",
              "eyeheightsitting                     0\n",
              "footbreadthhorizontal                0\n",
              "footlength                           0\n",
              "forearmcenterofgriplength            0\n",
              "forearmcircumferenceflexed           0\n",
              "forearmforearmbreadth                0\n",
              "forearmhandlength                    0\n",
              "functionalleglength                  0\n",
              "handbreadth                          0\n",
              "handcircumference                    0\n",
              "handlength                           0\n",
              "headbreadth                          0\n",
              "headcircumference                    0\n",
              "headlength                           0\n",
              "heelanklecircumference               0\n",
              "heelbreadth                          0\n",
              "hipbreadth                           0\n",
              "hipbreadthsitting                    0\n",
              "iliocristaleheight                   0\n",
              "interpupillarybreadth                0\n",
              "interscyei                           0\n",
              "interscyeii                          0\n",
              "kneeheightmidpatella                 0\n",
              "kneeheightsitting                    0\n",
              "lateralfemoralepicondyleheight       0\n",
              "lateralmalleolusheight               0\n",
              "lowerthighcircumference              0\n",
              "mentonsellionlength                  0\n",
              "neckcircumference                    0\n",
              "neckcircumferencebase                0\n",
              "overheadfingertipreachsitting        0\n",
              "palmlength                           0\n",
              "poplitealheight                      0\n",
              "radialestylionlength                 0\n",
              "shouldercircumference                0\n",
              "shoulderelbowlength                  0\n",
              "shoulderlength                       0\n",
              "sittingheight                        0\n",
              "sleevelengthspinewrist               0\n",
              "sleeveoutseam                        0\n",
              "span                                 0\n",
              "stature                              0\n",
              "suprasternaleheight                  0\n",
              "tenthribheight                       0\n",
              "thighcircumference                   0\n",
              "thighclearance                       0\n",
              "thumbtipreach                        0\n",
              "tibialheight                         0\n",
              "tragiontopofhead                     0\n",
              "trochanterionheight                  0\n",
              "verticaltrunkcircumferenceusa        0\n",
              "waistbacklength                      0\n",
              "waistbreadth                         0\n",
              "waistcircumference                   0\n",
              "waistdepth                           0\n",
              "waistfrontlengthsitting              0\n",
              "waistheightomphalion                 0\n",
              "weightkg                             0\n",
              "wristcircumference                   0\n",
              "wristheight                          0\n",
              "Gender                               0\n",
              "Date                                 0\n",
              "Installation                         0\n",
              "Component                            0\n",
              "Branch                               0\n",
              "PrimaryMOS                           0\n",
              "SubjectsBirthLocation                0\n",
              "SubjectNumericRace                   0\n",
              "Ethnicity                         1467\n",
              "DODRace                              0\n",
              "Age                                  0\n",
              "Heightin                             0\n",
              "Weightlbs                            0\n",
              "WritingPreference                    0\n",
              "dtype: int64"
            ]
          },
          "metadata": {},
          "execution_count": 193
        }
      ],
      "source": [
        "df_female.isnull().sum()"
      ]
    },
    {
      "cell_type": "code",
      "execution_count": 194,
      "metadata": {
        "colab": {
          "base_uri": "https://localhost:8080/"
        },
        "id": "n_YuSU_itPiJ",
        "outputId": "d4ee3de7-2c50-4296-a139-490105c90a55"
      },
      "outputs": [
        {
          "output_type": "execute_result",
          "data": {
            "text/plain": [
              "subjectid                            0\n",
              "abdominalextensiondepthsitting       0\n",
              "acromialheight                       0\n",
              "acromionradialelength                0\n",
              "anklecircumference                   0\n",
              "axillaheight                         0\n",
              "balloffootcircumference              0\n",
              "balloffootlength                     0\n",
              "biacromialbreadth                    0\n",
              "bicepscircumferenceflexed            0\n",
              "bicristalbreadth                     0\n",
              "bideltoidbreadth                     0\n",
              "bimalleolarbreadth                   0\n",
              "bitragionchinarc                     0\n",
              "bitragionsubmandibulararc            0\n",
              "bizygomaticbreadth                   0\n",
              "buttockcircumference                 0\n",
              "buttockdepth                         0\n",
              "buttockheight                        0\n",
              "buttockkneelength                    0\n",
              "buttockpopliteallength               0\n",
              "calfcircumference                    0\n",
              "cervicaleheight                      0\n",
              "chestbreadth                         0\n",
              "chestcircumference                   0\n",
              "chestdepth                           0\n",
              "chestheight                          0\n",
              "crotchheight                         0\n",
              "crotchlengthomphalion                0\n",
              "crotchlengthposterioromphalion       0\n",
              "earbreadth                           0\n",
              "earlength                            0\n",
              "earprotrusion                        0\n",
              "elbowrestheight                      0\n",
              "eyeheightsitting                     0\n",
              "footbreadthhorizontal                0\n",
              "footlength                           0\n",
              "forearmcenterofgriplength            0\n",
              "forearmcircumferenceflexed           0\n",
              "forearmforearmbreadth                0\n",
              "forearmhandlength                    0\n",
              "functionalleglength                  0\n",
              "handbreadth                          0\n",
              "handcircumference                    0\n",
              "handlength                           0\n",
              "headbreadth                          0\n",
              "headcircumference                    0\n",
              "headlength                           0\n",
              "heelanklecircumference               0\n",
              "heelbreadth                          0\n",
              "hipbreadth                           0\n",
              "hipbreadthsitting                    0\n",
              "iliocristaleheight                   0\n",
              "interpupillarybreadth                0\n",
              "interscyei                           0\n",
              "interscyeii                          0\n",
              "kneeheightmidpatella                 0\n",
              "kneeheightsitting                    0\n",
              "lateralfemoralepicondyleheight       0\n",
              "lateralmalleolusheight               0\n",
              "lowerthighcircumference              0\n",
              "mentonsellionlength                  0\n",
              "neckcircumference                    0\n",
              "neckcircumferencebase                0\n",
              "overheadfingertipreachsitting        0\n",
              "palmlength                           0\n",
              "poplitealheight                      0\n",
              "radialestylionlength                 0\n",
              "shouldercircumference                0\n",
              "shoulderelbowlength                  0\n",
              "shoulderlength                       0\n",
              "sittingheight                        0\n",
              "sleevelengthspinewrist               0\n",
              "sleeveoutseam                        0\n",
              "span                                 0\n",
              "stature                              0\n",
              "suprasternaleheight                  0\n",
              "tenthribheight                       0\n",
              "thighcircumference                   0\n",
              "thighclearance                       0\n",
              "thumbtipreach                        0\n",
              "tibialheight                         0\n",
              "tragiontopofhead                     0\n",
              "trochanterionheight                  0\n",
              "verticaltrunkcircumferenceusa        0\n",
              "waistbacklength                      0\n",
              "waistbreadth                         0\n",
              "waistcircumference                   0\n",
              "waistdepth                           0\n",
              "waistfrontlengthsitting              0\n",
              "waistheightomphalion                 0\n",
              "weightkg                             0\n",
              "wristcircumference                   0\n",
              "wristheight                          0\n",
              "Gender                               0\n",
              "Date                                 0\n",
              "Installation                         0\n",
              "Component                            0\n",
              "Branch                               0\n",
              "PrimaryMOS                           0\n",
              "SubjectsBirthLocation                0\n",
              "SubjectNumericRace                   0\n",
              "Ethnicity                         3180\n",
              "DODRace                              0\n",
              "Age                                  0\n",
              "Heightin                             0\n",
              "Weightlbs                            0\n",
              "WritingPreference                    0\n",
              "dtype: int64"
            ]
          },
          "metadata": {},
          "execution_count": 194
        }
      ],
      "source": [
        "df_male.isnull().sum()"
      ]
    },
    {
      "cell_type": "code",
      "execution_count": 195,
      "metadata": {
        "colab": {
          "base_uri": "https://localhost:8080/"
        },
        "id": "IkflNR0PtPiJ",
        "outputId": "bfe82ee7-b770-4116-bb39-5a353d408e63"
      },
      "outputs": [
        {
          "output_type": "execute_result",
          "data": {
            "text/plain": [
              "(4082, 108)"
            ]
          },
          "metadata": {},
          "execution_count": 195
        }
      ],
      "source": [
        "df_male.shape"
      ]
    },
    {
      "cell_type": "code",
      "execution_count": 196,
      "metadata": {
        "id": "682OmOv9tPiK"
      },
      "outputs": [],
      "source": [
        "df_male.drop(columns='subjectid', inplace=True)\n",
        "df_female.drop(columns='SubjectId', inplace=True)"
      ]
    },
    {
      "cell_type": "code",
      "execution_count": 214,
      "metadata": {
        "id": "CInqOZB5tPiK"
      },
      "outputs": [],
      "source": [
        "dfs = pd.concat([df_male, df_female], axis=0, ignore_index=True)"
      ]
    },
    {
      "cell_type": "code",
      "source": [
        "def clean_columns(dataframe):\n",
        "    for column in dfs:\n",
        "        dfs.rename(columns = {column : column.lower().replace(\" \", \"_\")},inplace = 1)\n",
        "        return dfs"
      ],
      "metadata": {
        "id": "wlkwJwN0vbQt"
      },
      "execution_count": 215,
      "outputs": []
    },
    {
      "cell_type": "code",
      "source": [
        "dfs.sample(2)"
      ],
      "metadata": {
        "colab": {
          "base_uri": "https://localhost:8080/",
          "height": 245
        },
        "id": "7Lk4-L4mv8vl",
        "outputId": "52c04a7e-203e-4e30-a390-280631b6de1f"
      },
      "execution_count": 216,
      "outputs": [
        {
          "output_type": "execute_result",
          "data": {
            "text/plain": [
              "      abdominalextensiondepthsitting  acromialheight  acromionradialelength  anklecircumference  axillaheight  balloffootcircumference  balloffootlength  biacromialbreadth  bicepscircumferenceflexed  bicristalbreadth  bideltoidbreadth  bimalleolarbreadth  bitragionchinarc  bitragionsubmandibulararc  bizygomaticbreadth  buttockcircumference  buttockdepth  buttockheight  buttockkneelength  buttockpopliteallength  calfcircumference  cervicaleheight  chestbreadth  chestcircumference  chestdepth  chestheight  crotchheight  crotchlengthomphalion  crotchlengthposterioromphalion  earbreadth  earlength  earprotrusion  elbowrestheight  eyeheightsitting  footbreadthhorizontal  footlength  forearmcenterofgriplength  forearmcircumferenceflexed  forearmforearmbreadth  forearmhandlength  functionalleglength  handbreadth  handcircumference  handlength  headbreadth  headcircumference  headlength  heelanklecircumference  heelbreadth  hipbreadth  hipbreadthsitting  iliocristaleheight  \\\n",
              "2977                             305            1482                    329                 244          1355                      265               193                450                        384               316               589                  76               334                        322                 145                  1118           279            874                648                     535                406             1552           326                1206         272         1342           858                    738                             412          33         62             29              268               807                    107         263                        344                         322                    650                480                 1151           87                212         188          159                583         201                     355           72         373                415                1054   \n",
              "3930                             213            1476                    345                 205          1366                      240               182                417                        318               282               467                  69               314                        297                 141                   940           229            917                650                     553                328             1527           283                 915         203         1322           879                    607                             368          38         62             26              236               785                     98         249                        346                         273                    516                481                 1098           86                206         191          160                579         202                     322           64         330                343                1093   \n",
              "\n",
              "      interpupillarybreadth  interscyei  interscyeii  kneeheightmidpatella  kneeheightsitting  lateralfemoralepicondyleheight  lateralmalleolusheight  lowerthighcircumference  mentonsellionlength  neckcircumference  neckcircumferencebase  overheadfingertipreachsitting  palmlength  poplitealheight  radialestylionlength  shouldercircumference  shoulderelbowlength  shoulderlength  sittingheight  sleevelengthspinewrist  sleeveoutseam  span  stature  suprasternaleheight  tenthribheight  thighcircumference  thighclearance  thumbtipreach  tibialheight  tragiontopofhead  trochanterionheight  verticaltrunkcircumferenceusa  waistbacklength  waistbreadth  waistcircumference  waistdepth  waistfrontlengthsitting  waistheightomphalion  weightkg  wristcircumference  wristheight Gender       Date   Installation            Component                  Branch PrimaryMOS SubjectsBirthLocation  SubjectNumericRace Ethnicity  DODRace  Age  Heightin  Weightlbs WritingPreference  \n",
              "2977                    620         481          496                   493                562                             496                      83                      427                  129                407                    452                           1405         115              441                   272                   1306                  357             166            926                     930            600  1798     1789                 1467            1092                 692             200            804           468               133                  895                           1812              481           381                1071         274                      347                  1093      1049                 179          894   Male  19-Jan-12  Fort Huachuca         Regular Army  Combat Service Support        25Q              Nebraska                   1       NaN        1   21        71        225        Right hand  \n",
              "3930                    615         423          453                   499                557                             508                      66                      364                  121                384                    421                           1425         108              444                   277                   1121                  375             155            909                     915            610  1827     1771                 1463            1163                 538             162            806           480               127                  905                           1589              450           299                 808         198                      358                  1093       687                 168          862   Male  24-Mar-12    Camp Shelby  Army National Guard          Combat Support        68W              Arkansas                  51  Cherokee        1   20        71        155         Left hand  "
            ],
            "text/html": [
              "\n",
              "  <div id=\"df-e4d507ac-3f56-4257-b3e7-2275aae8fd17\">\n",
              "    <div class=\"colab-df-container\">\n",
              "      <div>\n",
              "<style scoped>\n",
              "    .dataframe tbody tr th:only-of-type {\n",
              "        vertical-align: middle;\n",
              "    }\n",
              "\n",
              "    .dataframe tbody tr th {\n",
              "        vertical-align: top;\n",
              "    }\n",
              "\n",
              "    .dataframe thead th {\n",
              "        text-align: right;\n",
              "    }\n",
              "</style>\n",
              "<table border=\"1\" class=\"dataframe\">\n",
              "  <thead>\n",
              "    <tr style=\"text-align: right;\">\n",
              "      <th></th>\n",
              "      <th>abdominalextensiondepthsitting</th>\n",
              "      <th>acromialheight</th>\n",
              "      <th>acromionradialelength</th>\n",
              "      <th>anklecircumference</th>\n",
              "      <th>axillaheight</th>\n",
              "      <th>balloffootcircumference</th>\n",
              "      <th>balloffootlength</th>\n",
              "      <th>biacromialbreadth</th>\n",
              "      <th>bicepscircumferenceflexed</th>\n",
              "      <th>bicristalbreadth</th>\n",
              "      <th>bideltoidbreadth</th>\n",
              "      <th>bimalleolarbreadth</th>\n",
              "      <th>bitragionchinarc</th>\n",
              "      <th>bitragionsubmandibulararc</th>\n",
              "      <th>bizygomaticbreadth</th>\n",
              "      <th>buttockcircumference</th>\n",
              "      <th>buttockdepth</th>\n",
              "      <th>buttockheight</th>\n",
              "      <th>buttockkneelength</th>\n",
              "      <th>buttockpopliteallength</th>\n",
              "      <th>calfcircumference</th>\n",
              "      <th>cervicaleheight</th>\n",
              "      <th>chestbreadth</th>\n",
              "      <th>chestcircumference</th>\n",
              "      <th>chestdepth</th>\n",
              "      <th>chestheight</th>\n",
              "      <th>crotchheight</th>\n",
              "      <th>crotchlengthomphalion</th>\n",
              "      <th>crotchlengthposterioromphalion</th>\n",
              "      <th>earbreadth</th>\n",
              "      <th>earlength</th>\n",
              "      <th>earprotrusion</th>\n",
              "      <th>elbowrestheight</th>\n",
              "      <th>eyeheightsitting</th>\n",
              "      <th>footbreadthhorizontal</th>\n",
              "      <th>footlength</th>\n",
              "      <th>forearmcenterofgriplength</th>\n",
              "      <th>forearmcircumferenceflexed</th>\n",
              "      <th>forearmforearmbreadth</th>\n",
              "      <th>forearmhandlength</th>\n",
              "      <th>functionalleglength</th>\n",
              "      <th>handbreadth</th>\n",
              "      <th>handcircumference</th>\n",
              "      <th>handlength</th>\n",
              "      <th>headbreadth</th>\n",
              "      <th>headcircumference</th>\n",
              "      <th>headlength</th>\n",
              "      <th>heelanklecircumference</th>\n",
              "      <th>heelbreadth</th>\n",
              "      <th>hipbreadth</th>\n",
              "      <th>hipbreadthsitting</th>\n",
              "      <th>iliocristaleheight</th>\n",
              "      <th>interpupillarybreadth</th>\n",
              "      <th>interscyei</th>\n",
              "      <th>interscyeii</th>\n",
              "      <th>kneeheightmidpatella</th>\n",
              "      <th>kneeheightsitting</th>\n",
              "      <th>lateralfemoralepicondyleheight</th>\n",
              "      <th>lateralmalleolusheight</th>\n",
              "      <th>lowerthighcircumference</th>\n",
              "      <th>mentonsellionlength</th>\n",
              "      <th>neckcircumference</th>\n",
              "      <th>neckcircumferencebase</th>\n",
              "      <th>overheadfingertipreachsitting</th>\n",
              "      <th>palmlength</th>\n",
              "      <th>poplitealheight</th>\n",
              "      <th>radialestylionlength</th>\n",
              "      <th>shouldercircumference</th>\n",
              "      <th>shoulderelbowlength</th>\n",
              "      <th>shoulderlength</th>\n",
              "      <th>sittingheight</th>\n",
              "      <th>sleevelengthspinewrist</th>\n",
              "      <th>sleeveoutseam</th>\n",
              "      <th>span</th>\n",
              "      <th>stature</th>\n",
              "      <th>suprasternaleheight</th>\n",
              "      <th>tenthribheight</th>\n",
              "      <th>thighcircumference</th>\n",
              "      <th>thighclearance</th>\n",
              "      <th>thumbtipreach</th>\n",
              "      <th>tibialheight</th>\n",
              "      <th>tragiontopofhead</th>\n",
              "      <th>trochanterionheight</th>\n",
              "      <th>verticaltrunkcircumferenceusa</th>\n",
              "      <th>waistbacklength</th>\n",
              "      <th>waistbreadth</th>\n",
              "      <th>waistcircumference</th>\n",
              "      <th>waistdepth</th>\n",
              "      <th>waistfrontlengthsitting</th>\n",
              "      <th>waistheightomphalion</th>\n",
              "      <th>weightkg</th>\n",
              "      <th>wristcircumference</th>\n",
              "      <th>wristheight</th>\n",
              "      <th>Gender</th>\n",
              "      <th>Date</th>\n",
              "      <th>Installation</th>\n",
              "      <th>Component</th>\n",
              "      <th>Branch</th>\n",
              "      <th>PrimaryMOS</th>\n",
              "      <th>SubjectsBirthLocation</th>\n",
              "      <th>SubjectNumericRace</th>\n",
              "      <th>Ethnicity</th>\n",
              "      <th>DODRace</th>\n",
              "      <th>Age</th>\n",
              "      <th>Heightin</th>\n",
              "      <th>Weightlbs</th>\n",
              "      <th>WritingPreference</th>\n",
              "    </tr>\n",
              "  </thead>\n",
              "  <tbody>\n",
              "    <tr>\n",
              "      <th>2977</th>\n",
              "      <td>305</td>\n",
              "      <td>1482</td>\n",
              "      <td>329</td>\n",
              "      <td>244</td>\n",
              "      <td>1355</td>\n",
              "      <td>265</td>\n",
              "      <td>193</td>\n",
              "      <td>450</td>\n",
              "      <td>384</td>\n",
              "      <td>316</td>\n",
              "      <td>589</td>\n",
              "      <td>76</td>\n",
              "      <td>334</td>\n",
              "      <td>322</td>\n",
              "      <td>145</td>\n",
              "      <td>1118</td>\n",
              "      <td>279</td>\n",
              "      <td>874</td>\n",
              "      <td>648</td>\n",
              "      <td>535</td>\n",
              "      <td>406</td>\n",
              "      <td>1552</td>\n",
              "      <td>326</td>\n",
              "      <td>1206</td>\n",
              "      <td>272</td>\n",
              "      <td>1342</td>\n",
              "      <td>858</td>\n",
              "      <td>738</td>\n",
              "      <td>412</td>\n",
              "      <td>33</td>\n",
              "      <td>62</td>\n",
              "      <td>29</td>\n",
              "      <td>268</td>\n",
              "      <td>807</td>\n",
              "      <td>107</td>\n",
              "      <td>263</td>\n",
              "      <td>344</td>\n",
              "      <td>322</td>\n",
              "      <td>650</td>\n",
              "      <td>480</td>\n",
              "      <td>1151</td>\n",
              "      <td>87</td>\n",
              "      <td>212</td>\n",
              "      <td>188</td>\n",
              "      <td>159</td>\n",
              "      <td>583</td>\n",
              "      <td>201</td>\n",
              "      <td>355</td>\n",
              "      <td>72</td>\n",
              "      <td>373</td>\n",
              "      <td>415</td>\n",
              "      <td>1054</td>\n",
              "      <td>620</td>\n",
              "      <td>481</td>\n",
              "      <td>496</td>\n",
              "      <td>493</td>\n",
              "      <td>562</td>\n",
              "      <td>496</td>\n",
              "      <td>83</td>\n",
              "      <td>427</td>\n",
              "      <td>129</td>\n",
              "      <td>407</td>\n",
              "      <td>452</td>\n",
              "      <td>1405</td>\n",
              "      <td>115</td>\n",
              "      <td>441</td>\n",
              "      <td>272</td>\n",
              "      <td>1306</td>\n",
              "      <td>357</td>\n",
              "      <td>166</td>\n",
              "      <td>926</td>\n",
              "      <td>930</td>\n",
              "      <td>600</td>\n",
              "      <td>1798</td>\n",
              "      <td>1789</td>\n",
              "      <td>1467</td>\n",
              "      <td>1092</td>\n",
              "      <td>692</td>\n",
              "      <td>200</td>\n",
              "      <td>804</td>\n",
              "      <td>468</td>\n",
              "      <td>133</td>\n",
              "      <td>895</td>\n",
              "      <td>1812</td>\n",
              "      <td>481</td>\n",
              "      <td>381</td>\n",
              "      <td>1071</td>\n",
              "      <td>274</td>\n",
              "      <td>347</td>\n",
              "      <td>1093</td>\n",
              "      <td>1049</td>\n",
              "      <td>179</td>\n",
              "      <td>894</td>\n",
              "      <td>Male</td>\n",
              "      <td>19-Jan-12</td>\n",
              "      <td>Fort Huachuca</td>\n",
              "      <td>Regular Army</td>\n",
              "      <td>Combat Service Support</td>\n",
              "      <td>25Q</td>\n",
              "      <td>Nebraska</td>\n",
              "      <td>1</td>\n",
              "      <td>NaN</td>\n",
              "      <td>1</td>\n",
              "      <td>21</td>\n",
              "      <td>71</td>\n",
              "      <td>225</td>\n",
              "      <td>Right hand</td>\n",
              "    </tr>\n",
              "    <tr>\n",
              "      <th>3930</th>\n",
              "      <td>213</td>\n",
              "      <td>1476</td>\n",
              "      <td>345</td>\n",
              "      <td>205</td>\n",
              "      <td>1366</td>\n",
              "      <td>240</td>\n",
              "      <td>182</td>\n",
              "      <td>417</td>\n",
              "      <td>318</td>\n",
              "      <td>282</td>\n",
              "      <td>467</td>\n",
              "      <td>69</td>\n",
              "      <td>314</td>\n",
              "      <td>297</td>\n",
              "      <td>141</td>\n",
              "      <td>940</td>\n",
              "      <td>229</td>\n",
              "      <td>917</td>\n",
              "      <td>650</td>\n",
              "      <td>553</td>\n",
              "      <td>328</td>\n",
              "      <td>1527</td>\n",
              "      <td>283</td>\n",
              "      <td>915</td>\n",
              "      <td>203</td>\n",
              "      <td>1322</td>\n",
              "      <td>879</td>\n",
              "      <td>607</td>\n",
              "      <td>368</td>\n",
              "      <td>38</td>\n",
              "      <td>62</td>\n",
              "      <td>26</td>\n",
              "      <td>236</td>\n",
              "      <td>785</td>\n",
              "      <td>98</td>\n",
              "      <td>249</td>\n",
              "      <td>346</td>\n",
              "      <td>273</td>\n",
              "      <td>516</td>\n",
              "      <td>481</td>\n",
              "      <td>1098</td>\n",
              "      <td>86</td>\n",
              "      <td>206</td>\n",
              "      <td>191</td>\n",
              "      <td>160</td>\n",
              "      <td>579</td>\n",
              "      <td>202</td>\n",
              "      <td>322</td>\n",
              "      <td>64</td>\n",
              "      <td>330</td>\n",
              "      <td>343</td>\n",
              "      <td>1093</td>\n",
              "      <td>615</td>\n",
              "      <td>423</td>\n",
              "      <td>453</td>\n",
              "      <td>499</td>\n",
              "      <td>557</td>\n",
              "      <td>508</td>\n",
              "      <td>66</td>\n",
              "      <td>364</td>\n",
              "      <td>121</td>\n",
              "      <td>384</td>\n",
              "      <td>421</td>\n",
              "      <td>1425</td>\n",
              "      <td>108</td>\n",
              "      <td>444</td>\n",
              "      <td>277</td>\n",
              "      <td>1121</td>\n",
              "      <td>375</td>\n",
              "      <td>155</td>\n",
              "      <td>909</td>\n",
              "      <td>915</td>\n",
              "      <td>610</td>\n",
              "      <td>1827</td>\n",
              "      <td>1771</td>\n",
              "      <td>1463</td>\n",
              "      <td>1163</td>\n",
              "      <td>538</td>\n",
              "      <td>162</td>\n",
              "      <td>806</td>\n",
              "      <td>480</td>\n",
              "      <td>127</td>\n",
              "      <td>905</td>\n",
              "      <td>1589</td>\n",
              "      <td>450</td>\n",
              "      <td>299</td>\n",
              "      <td>808</td>\n",
              "      <td>198</td>\n",
              "      <td>358</td>\n",
              "      <td>1093</td>\n",
              "      <td>687</td>\n",
              "      <td>168</td>\n",
              "      <td>862</td>\n",
              "      <td>Male</td>\n",
              "      <td>24-Mar-12</td>\n",
              "      <td>Camp Shelby</td>\n",
              "      <td>Army National Guard</td>\n",
              "      <td>Combat Support</td>\n",
              "      <td>68W</td>\n",
              "      <td>Arkansas</td>\n",
              "      <td>51</td>\n",
              "      <td>Cherokee</td>\n",
              "      <td>1</td>\n",
              "      <td>20</td>\n",
              "      <td>71</td>\n",
              "      <td>155</td>\n",
              "      <td>Left hand</td>\n",
              "    </tr>\n",
              "  </tbody>\n",
              "</table>\n",
              "</div>\n",
              "      <button class=\"colab-df-convert\" onclick=\"convertToInteractive('df-e4d507ac-3f56-4257-b3e7-2275aae8fd17')\"\n",
              "              title=\"Convert this dataframe to an interactive table.\"\n",
              "              style=\"display:none;\">\n",
              "        \n",
              "  <svg xmlns=\"http://www.w3.org/2000/svg\" height=\"24px\"viewBox=\"0 0 24 24\"\n",
              "       width=\"24px\">\n",
              "    <path d=\"M0 0h24v24H0V0z\" fill=\"none\"/>\n",
              "    <path d=\"M18.56 5.44l.94 2.06.94-2.06 2.06-.94-2.06-.94-.94-2.06-.94 2.06-2.06.94zm-11 1L8.5 8.5l.94-2.06 2.06-.94-2.06-.94L8.5 2.5l-.94 2.06-2.06.94zm10 10l.94 2.06.94-2.06 2.06-.94-2.06-.94-.94-2.06-.94 2.06-2.06.94z\"/><path d=\"M17.41 7.96l-1.37-1.37c-.4-.4-.92-.59-1.43-.59-.52 0-1.04.2-1.43.59L10.3 9.45l-7.72 7.72c-.78.78-.78 2.05 0 2.83L4 21.41c.39.39.9.59 1.41.59.51 0 1.02-.2 1.41-.59l7.78-7.78 2.81-2.81c.8-.78.8-2.07 0-2.86zM5.41 20L4 18.59l7.72-7.72 1.47 1.35L5.41 20z\"/>\n",
              "  </svg>\n",
              "      </button>\n",
              "      \n",
              "  <style>\n",
              "    .colab-df-container {\n",
              "      display:flex;\n",
              "      flex-wrap:wrap;\n",
              "      gap: 12px;\n",
              "    }\n",
              "\n",
              "    .colab-df-convert {\n",
              "      background-color: #E8F0FE;\n",
              "      border: none;\n",
              "      border-radius: 50%;\n",
              "      cursor: pointer;\n",
              "      display: none;\n",
              "      fill: #1967D2;\n",
              "      height: 32px;\n",
              "      padding: 0 0 0 0;\n",
              "      width: 32px;\n",
              "    }\n",
              "\n",
              "    .colab-df-convert:hover {\n",
              "      background-color: #E2EBFA;\n",
              "      box-shadow: 0px 1px 2px rgba(60, 64, 67, 0.3), 0px 1px 3px 1px rgba(60, 64, 67, 0.15);\n",
              "      fill: #174EA6;\n",
              "    }\n",
              "\n",
              "    [theme=dark] .colab-df-convert {\n",
              "      background-color: #3B4455;\n",
              "      fill: #D2E3FC;\n",
              "    }\n",
              "\n",
              "    [theme=dark] .colab-df-convert:hover {\n",
              "      background-color: #434B5C;\n",
              "      box-shadow: 0px 1px 3px 1px rgba(0, 0, 0, 0.15);\n",
              "      filter: drop-shadow(0px 1px 2px rgba(0, 0, 0, 0.3));\n",
              "      fill: #FFFFFF;\n",
              "    }\n",
              "  </style>\n",
              "\n",
              "      <script>\n",
              "        const buttonEl =\n",
              "          document.querySelector('#df-e4d507ac-3f56-4257-b3e7-2275aae8fd17 button.colab-df-convert');\n",
              "        buttonEl.style.display =\n",
              "          google.colab.kernel.accessAllowed ? 'block' : 'none';\n",
              "\n",
              "        async function convertToInteractive(key) {\n",
              "          const element = document.querySelector('#df-e4d507ac-3f56-4257-b3e7-2275aae8fd17');\n",
              "          const dataTable =\n",
              "            await google.colab.kernel.invokeFunction('convertToInteractive',\n",
              "                                                     [key], {});\n",
              "          if (!dataTable) return;\n",
              "\n",
              "          const docLinkHtml = 'Like what you see? Visit the ' +\n",
              "            '<a target=\"_blank\" href=https://colab.research.google.com/notebooks/data_table.ipynb>data table notebook</a>'\n",
              "            + ' to learn more about interactive tables.';\n",
              "          element.innerHTML = '';\n",
              "          dataTable['output_type'] = 'display_data';\n",
              "          await google.colab.output.renderOutput(dataTable, element);\n",
              "          const docLink = document.createElement('div');\n",
              "          docLink.innerHTML = docLinkHtml;\n",
              "          element.appendChild(docLink);\n",
              "        }\n",
              "      </script>\n",
              "    </div>\n",
              "  </div>\n",
              "  "
            ]
          },
          "metadata": {},
          "execution_count": 216
        }
      ]
    },
    {
      "cell_type": "code",
      "execution_count": null,
      "metadata": {
        "id": "jIyPgCVPtPiK"
      },
      "outputs": [],
      "source": [
        "dfs.isnull().sum()"
      ]
    },
    {
      "cell_type": "code",
      "source": [
        "dfs.describe().T"
      ],
      "metadata": {
        "id": "d68eTkhQwY1G"
      },
      "execution_count": null,
      "outputs": []
    },
    {
      "cell_type": "code",
      "execution_count": null,
      "metadata": {
        "id": "l6FQqjwOtPiL"
      },
      "outputs": [],
      "source": [
        "dfs.DODRace.value_counts()"
      ]
    },
    {
      "cell_type": "code",
      "execution_count": 207,
      "metadata": {
        "colab": {
          "base_uri": "https://localhost:8080/"
        },
        "id": "_VoH3cBctPiL",
        "outputId": "991a956f-e33e-4e4b-c2f0-ad0bb5875b3b"
      },
      "outputs": [
        {
          "output_type": "execute_result",
          "data": {
            "text/plain": [
              "(5769, 107)"
            ]
          },
          "metadata": {},
          "execution_count": 207
        }
      ],
      "source": [
        "dfs.shape"
      ]
    },
    {
      "cell_type": "code",
      "execution_count": 208,
      "metadata": {
        "colab": {
          "base_uri": "https://localhost:8080/"
        },
        "id": "aj9bDCNetPiL",
        "outputId": "9382d686-aab3-4f03-e379-3ba496bb0c7a"
      },
      "outputs": [
        {
          "output_type": "execute_result",
          "data": {
            "text/plain": [
              "299"
            ]
          },
          "metadata": {},
          "execution_count": 208
        }
      ],
      "source": [
        "6068 - 5769"
      ]
    },
    {
      "cell_type": "code",
      "execution_count": 218,
      "metadata": {
        "colab": {
          "base_uri": "https://localhost:8080/"
        },
        "id": "68-kr28otPiL",
        "outputId": "f15ce27f-b7b4-42bf-f643-64ac50a05720"
      },
      "outputs": [
        {
          "output_type": "execute_result",
          "data": {
            "text/plain": [
              "0"
            ]
          },
          "metadata": {},
          "execution_count": 218
        }
      ],
      "source": [
        "dfs['DODRace'].isnull().sum()"
      ]
    },
    {
      "cell_type": "code",
      "source": [
        "dfs.columns"
      ],
      "metadata": {
        "colab": {
          "base_uri": "https://localhost:8080/"
        },
        "id": "2Y2alqc3w9-G",
        "outputId": "cdd07fbe-7e39-4c98-df6a-2001786d20ec"
      },
      "execution_count": 219,
      "outputs": [
        {
          "output_type": "execute_result",
          "data": {
            "text/plain": [
              "Index(['abdominalextensiondepthsitting', 'acromialheight', 'acromionradialelength', 'anklecircumference', 'axillaheight', 'balloffootcircumference', 'balloffootlength', 'biacromialbreadth', 'bicepscircumferenceflexed', 'bicristalbreadth',\n",
              "       ...\n",
              "       'Branch', 'PrimaryMOS', 'SubjectsBirthLocation', 'SubjectNumericRace', 'Ethnicity', 'DODRace', 'Age', 'Heightin', 'Weightlbs', 'WritingPreference'], dtype='object', length=107)"
            ]
          },
          "metadata": {},
          "execution_count": 219
        }
      ]
    },
    {
      "cell_type": "code",
      "source": [
        "dfs.head(1)"
      ],
      "metadata": {
        "colab": {
          "base_uri": "https://localhost:8080/",
          "height": 179
        },
        "id": "TDqD51PMxEgz",
        "outputId": "4f4cdb4e-939a-45b6-fbd7-1f8effea7bc0"
      },
      "execution_count": 220,
      "outputs": [
        {
          "output_type": "execute_result",
          "data": {
            "text/plain": [
              "   abdominalextensiondepthsitting  acromialheight  acromionradialelength  anklecircumference  axillaheight  balloffootcircumference  balloffootlength  biacromialbreadth  bicepscircumferenceflexed  bicristalbreadth  bideltoidbreadth  bimalleolarbreadth  bitragionchinarc  bitragionsubmandibulararc  bizygomaticbreadth  buttockcircumference  buttockdepth  buttockheight  buttockkneelength  buttockpopliteallength  calfcircumference  cervicaleheight  chestbreadth  chestcircumference  chestdepth  chestheight  crotchheight  crotchlengthomphalion  crotchlengthposterioromphalion  earbreadth  earlength  earprotrusion  elbowrestheight  eyeheightsitting  footbreadthhorizontal  footlength  forearmcenterofgriplength  forearmcircumferenceflexed  forearmforearmbreadth  forearmhandlength  functionalleglength  handbreadth  handcircumference  handlength  headbreadth  headcircumference  headlength  heelanklecircumference  heelbreadth  hipbreadth  hipbreadthsitting  iliocristaleheight  \\\n",
              "0                             266            1467                    337                 222          1347                      253               202                401                        369               274               493                  71               319                        291                 142                   979           240            882                619                     509                373             1535           291                1074         259         1292           877                    607                             351          36         71             19              247               802                    101         273                        349                         299                    575                477                 1136           90                214         193          150                583         206                     326           70         332                366                1071   \n",
              "\n",
              "   interpupillarybreadth  interscyei  interscyeii  kneeheightmidpatella  kneeheightsitting  lateralfemoralepicondyleheight  lateralmalleolusheight  lowerthighcircumference  mentonsellionlength  neckcircumference  neckcircumferencebase  overheadfingertipreachsitting  palmlength  poplitealheight  radialestylionlength  shouldercircumference  shoulderelbowlength  shoulderlength  sittingheight  sleevelengthspinewrist  sleeveoutseam  span  stature  suprasternaleheight  tenthribheight  thighcircumference  thighclearance  thumbtipreach  tibialheight  tragiontopofhead  trochanterionheight  verticaltrunkcircumferenceusa  waistbacklength  waistbreadth  waistcircumference  waistdepth  waistfrontlengthsitting  waistheightomphalion  weightkg  wristcircumference  wristheight Gender      Date Installation     Component       Branch PrimaryMOS SubjectsBirthLocation  SubjectNumericRace Ethnicity  DODRace  Age  Heightin  Weightlbs WritingPreference  \n",
              "0                    685         422          441                   502                560                             500                      77                      391                  118                400                    436                           1447         113              437                   273                   1151                  368             145            928                     883            600  1782     1776                 1449            1092                 610             164            786           491               140                  919                           1700              501           329                 933         240                      440                  1054       815                 175          853   Male  4-Oct-10    Fort Hood  Regular Army  Combat Arms        19D          North Dakota                   1       NaN        1   41        71        180        Right hand  "
            ],
            "text/html": [
              "\n",
              "  <div id=\"df-0346aabc-b719-415c-bed7-fbffd6ebb850\">\n",
              "    <div class=\"colab-df-container\">\n",
              "      <div>\n",
              "<style scoped>\n",
              "    .dataframe tbody tr th:only-of-type {\n",
              "        vertical-align: middle;\n",
              "    }\n",
              "\n",
              "    .dataframe tbody tr th {\n",
              "        vertical-align: top;\n",
              "    }\n",
              "\n",
              "    .dataframe thead th {\n",
              "        text-align: right;\n",
              "    }\n",
              "</style>\n",
              "<table border=\"1\" class=\"dataframe\">\n",
              "  <thead>\n",
              "    <tr style=\"text-align: right;\">\n",
              "      <th></th>\n",
              "      <th>abdominalextensiondepthsitting</th>\n",
              "      <th>acromialheight</th>\n",
              "      <th>acromionradialelength</th>\n",
              "      <th>anklecircumference</th>\n",
              "      <th>axillaheight</th>\n",
              "      <th>balloffootcircumference</th>\n",
              "      <th>balloffootlength</th>\n",
              "      <th>biacromialbreadth</th>\n",
              "      <th>bicepscircumferenceflexed</th>\n",
              "      <th>bicristalbreadth</th>\n",
              "      <th>bideltoidbreadth</th>\n",
              "      <th>bimalleolarbreadth</th>\n",
              "      <th>bitragionchinarc</th>\n",
              "      <th>bitragionsubmandibulararc</th>\n",
              "      <th>bizygomaticbreadth</th>\n",
              "      <th>buttockcircumference</th>\n",
              "      <th>buttockdepth</th>\n",
              "      <th>buttockheight</th>\n",
              "      <th>buttockkneelength</th>\n",
              "      <th>buttockpopliteallength</th>\n",
              "      <th>calfcircumference</th>\n",
              "      <th>cervicaleheight</th>\n",
              "      <th>chestbreadth</th>\n",
              "      <th>chestcircumference</th>\n",
              "      <th>chestdepth</th>\n",
              "      <th>chestheight</th>\n",
              "      <th>crotchheight</th>\n",
              "      <th>crotchlengthomphalion</th>\n",
              "      <th>crotchlengthposterioromphalion</th>\n",
              "      <th>earbreadth</th>\n",
              "      <th>earlength</th>\n",
              "      <th>earprotrusion</th>\n",
              "      <th>elbowrestheight</th>\n",
              "      <th>eyeheightsitting</th>\n",
              "      <th>footbreadthhorizontal</th>\n",
              "      <th>footlength</th>\n",
              "      <th>forearmcenterofgriplength</th>\n",
              "      <th>forearmcircumferenceflexed</th>\n",
              "      <th>forearmforearmbreadth</th>\n",
              "      <th>forearmhandlength</th>\n",
              "      <th>functionalleglength</th>\n",
              "      <th>handbreadth</th>\n",
              "      <th>handcircumference</th>\n",
              "      <th>handlength</th>\n",
              "      <th>headbreadth</th>\n",
              "      <th>headcircumference</th>\n",
              "      <th>headlength</th>\n",
              "      <th>heelanklecircumference</th>\n",
              "      <th>heelbreadth</th>\n",
              "      <th>hipbreadth</th>\n",
              "      <th>hipbreadthsitting</th>\n",
              "      <th>iliocristaleheight</th>\n",
              "      <th>interpupillarybreadth</th>\n",
              "      <th>interscyei</th>\n",
              "      <th>interscyeii</th>\n",
              "      <th>kneeheightmidpatella</th>\n",
              "      <th>kneeheightsitting</th>\n",
              "      <th>lateralfemoralepicondyleheight</th>\n",
              "      <th>lateralmalleolusheight</th>\n",
              "      <th>lowerthighcircumference</th>\n",
              "      <th>mentonsellionlength</th>\n",
              "      <th>neckcircumference</th>\n",
              "      <th>neckcircumferencebase</th>\n",
              "      <th>overheadfingertipreachsitting</th>\n",
              "      <th>palmlength</th>\n",
              "      <th>poplitealheight</th>\n",
              "      <th>radialestylionlength</th>\n",
              "      <th>shouldercircumference</th>\n",
              "      <th>shoulderelbowlength</th>\n",
              "      <th>shoulderlength</th>\n",
              "      <th>sittingheight</th>\n",
              "      <th>sleevelengthspinewrist</th>\n",
              "      <th>sleeveoutseam</th>\n",
              "      <th>span</th>\n",
              "      <th>stature</th>\n",
              "      <th>suprasternaleheight</th>\n",
              "      <th>tenthribheight</th>\n",
              "      <th>thighcircumference</th>\n",
              "      <th>thighclearance</th>\n",
              "      <th>thumbtipreach</th>\n",
              "      <th>tibialheight</th>\n",
              "      <th>tragiontopofhead</th>\n",
              "      <th>trochanterionheight</th>\n",
              "      <th>verticaltrunkcircumferenceusa</th>\n",
              "      <th>waistbacklength</th>\n",
              "      <th>waistbreadth</th>\n",
              "      <th>waistcircumference</th>\n",
              "      <th>waistdepth</th>\n",
              "      <th>waistfrontlengthsitting</th>\n",
              "      <th>waistheightomphalion</th>\n",
              "      <th>weightkg</th>\n",
              "      <th>wristcircumference</th>\n",
              "      <th>wristheight</th>\n",
              "      <th>Gender</th>\n",
              "      <th>Date</th>\n",
              "      <th>Installation</th>\n",
              "      <th>Component</th>\n",
              "      <th>Branch</th>\n",
              "      <th>PrimaryMOS</th>\n",
              "      <th>SubjectsBirthLocation</th>\n",
              "      <th>SubjectNumericRace</th>\n",
              "      <th>Ethnicity</th>\n",
              "      <th>DODRace</th>\n",
              "      <th>Age</th>\n",
              "      <th>Heightin</th>\n",
              "      <th>Weightlbs</th>\n",
              "      <th>WritingPreference</th>\n",
              "    </tr>\n",
              "  </thead>\n",
              "  <tbody>\n",
              "    <tr>\n",
              "      <th>0</th>\n",
              "      <td>266</td>\n",
              "      <td>1467</td>\n",
              "      <td>337</td>\n",
              "      <td>222</td>\n",
              "      <td>1347</td>\n",
              "      <td>253</td>\n",
              "      <td>202</td>\n",
              "      <td>401</td>\n",
              "      <td>369</td>\n",
              "      <td>274</td>\n",
              "      <td>493</td>\n",
              "      <td>71</td>\n",
              "      <td>319</td>\n",
              "      <td>291</td>\n",
              "      <td>142</td>\n",
              "      <td>979</td>\n",
              "      <td>240</td>\n",
              "      <td>882</td>\n",
              "      <td>619</td>\n",
              "      <td>509</td>\n",
              "      <td>373</td>\n",
              "      <td>1535</td>\n",
              "      <td>291</td>\n",
              "      <td>1074</td>\n",
              "      <td>259</td>\n",
              "      <td>1292</td>\n",
              "      <td>877</td>\n",
              "      <td>607</td>\n",
              "      <td>351</td>\n",
              "      <td>36</td>\n",
              "      <td>71</td>\n",
              "      <td>19</td>\n",
              "      <td>247</td>\n",
              "      <td>802</td>\n",
              "      <td>101</td>\n",
              "      <td>273</td>\n",
              "      <td>349</td>\n",
              "      <td>299</td>\n",
              "      <td>575</td>\n",
              "      <td>477</td>\n",
              "      <td>1136</td>\n",
              "      <td>90</td>\n",
              "      <td>214</td>\n",
              "      <td>193</td>\n",
              "      <td>150</td>\n",
              "      <td>583</td>\n",
              "      <td>206</td>\n",
              "      <td>326</td>\n",
              "      <td>70</td>\n",
              "      <td>332</td>\n",
              "      <td>366</td>\n",
              "      <td>1071</td>\n",
              "      <td>685</td>\n",
              "      <td>422</td>\n",
              "      <td>441</td>\n",
              "      <td>502</td>\n",
              "      <td>560</td>\n",
              "      <td>500</td>\n",
              "      <td>77</td>\n",
              "      <td>391</td>\n",
              "      <td>118</td>\n",
              "      <td>400</td>\n",
              "      <td>436</td>\n",
              "      <td>1447</td>\n",
              "      <td>113</td>\n",
              "      <td>437</td>\n",
              "      <td>273</td>\n",
              "      <td>1151</td>\n",
              "      <td>368</td>\n",
              "      <td>145</td>\n",
              "      <td>928</td>\n",
              "      <td>883</td>\n",
              "      <td>600</td>\n",
              "      <td>1782</td>\n",
              "      <td>1776</td>\n",
              "      <td>1449</td>\n",
              "      <td>1092</td>\n",
              "      <td>610</td>\n",
              "      <td>164</td>\n",
              "      <td>786</td>\n",
              "      <td>491</td>\n",
              "      <td>140</td>\n",
              "      <td>919</td>\n",
              "      <td>1700</td>\n",
              "      <td>501</td>\n",
              "      <td>329</td>\n",
              "      <td>933</td>\n",
              "      <td>240</td>\n",
              "      <td>440</td>\n",
              "      <td>1054</td>\n",
              "      <td>815</td>\n",
              "      <td>175</td>\n",
              "      <td>853</td>\n",
              "      <td>Male</td>\n",
              "      <td>4-Oct-10</td>\n",
              "      <td>Fort Hood</td>\n",
              "      <td>Regular Army</td>\n",
              "      <td>Combat Arms</td>\n",
              "      <td>19D</td>\n",
              "      <td>North Dakota</td>\n",
              "      <td>1</td>\n",
              "      <td>NaN</td>\n",
              "      <td>1</td>\n",
              "      <td>41</td>\n",
              "      <td>71</td>\n",
              "      <td>180</td>\n",
              "      <td>Right hand</td>\n",
              "    </tr>\n",
              "  </tbody>\n",
              "</table>\n",
              "</div>\n",
              "      <button class=\"colab-df-convert\" onclick=\"convertToInteractive('df-0346aabc-b719-415c-bed7-fbffd6ebb850')\"\n",
              "              title=\"Convert this dataframe to an interactive table.\"\n",
              "              style=\"display:none;\">\n",
              "        \n",
              "  <svg xmlns=\"http://www.w3.org/2000/svg\" height=\"24px\"viewBox=\"0 0 24 24\"\n",
              "       width=\"24px\">\n",
              "    <path d=\"M0 0h24v24H0V0z\" fill=\"none\"/>\n",
              "    <path d=\"M18.56 5.44l.94 2.06.94-2.06 2.06-.94-2.06-.94-.94-2.06-.94 2.06-2.06.94zm-11 1L8.5 8.5l.94-2.06 2.06-.94-2.06-.94L8.5 2.5l-.94 2.06-2.06.94zm10 10l.94 2.06.94-2.06 2.06-.94-2.06-.94-.94-2.06-.94 2.06-2.06.94z\"/><path d=\"M17.41 7.96l-1.37-1.37c-.4-.4-.92-.59-1.43-.59-.52 0-1.04.2-1.43.59L10.3 9.45l-7.72 7.72c-.78.78-.78 2.05 0 2.83L4 21.41c.39.39.9.59 1.41.59.51 0 1.02-.2 1.41-.59l7.78-7.78 2.81-2.81c.8-.78.8-2.07 0-2.86zM5.41 20L4 18.59l7.72-7.72 1.47 1.35L5.41 20z\"/>\n",
              "  </svg>\n",
              "      </button>\n",
              "      \n",
              "  <style>\n",
              "    .colab-df-container {\n",
              "      display:flex;\n",
              "      flex-wrap:wrap;\n",
              "      gap: 12px;\n",
              "    }\n",
              "\n",
              "    .colab-df-convert {\n",
              "      background-color: #E8F0FE;\n",
              "      border: none;\n",
              "      border-radius: 50%;\n",
              "      cursor: pointer;\n",
              "      display: none;\n",
              "      fill: #1967D2;\n",
              "      height: 32px;\n",
              "      padding: 0 0 0 0;\n",
              "      width: 32px;\n",
              "    }\n",
              "\n",
              "    .colab-df-convert:hover {\n",
              "      background-color: #E2EBFA;\n",
              "      box-shadow: 0px 1px 2px rgba(60, 64, 67, 0.3), 0px 1px 3px 1px rgba(60, 64, 67, 0.15);\n",
              "      fill: #174EA6;\n",
              "    }\n",
              "\n",
              "    [theme=dark] .colab-df-convert {\n",
              "      background-color: #3B4455;\n",
              "      fill: #D2E3FC;\n",
              "    }\n",
              "\n",
              "    [theme=dark] .colab-df-convert:hover {\n",
              "      background-color: #434B5C;\n",
              "      box-shadow: 0px 1px 3px 1px rgba(0, 0, 0, 0.15);\n",
              "      filter: drop-shadow(0px 1px 2px rgba(0, 0, 0, 0.3));\n",
              "      fill: #FFFFFF;\n",
              "    }\n",
              "  </style>\n",
              "\n",
              "      <script>\n",
              "        const buttonEl =\n",
              "          document.querySelector('#df-0346aabc-b719-415c-bed7-fbffd6ebb850 button.colab-df-convert');\n",
              "        buttonEl.style.display =\n",
              "          google.colab.kernel.accessAllowed ? 'block' : 'none';\n",
              "\n",
              "        async function convertToInteractive(key) {\n",
              "          const element = document.querySelector('#df-0346aabc-b719-415c-bed7-fbffd6ebb850');\n",
              "          const dataTable =\n",
              "            await google.colab.kernel.invokeFunction('convertToInteractive',\n",
              "                                                     [key], {});\n",
              "          if (!dataTable) return;\n",
              "\n",
              "          const docLinkHtml = 'Like what you see? Visit the ' +\n",
              "            '<a target=\"_blank\" href=https://colab.research.google.com/notebooks/data_table.ipynb>data table notebook</a>'\n",
              "            + ' to learn more about interactive tables.';\n",
              "          element.innerHTML = '';\n",
              "          dataTable['output_type'] = 'display_data';\n",
              "          await google.colab.output.renderOutput(dataTable, element);\n",
              "          const docLink = document.createElement('div');\n",
              "          docLink.innerHTML = docLinkHtml;\n",
              "          element.appendChild(docLink);\n",
              "        }\n",
              "      </script>\n",
              "    </div>\n",
              "  </div>\n",
              "  "
            ]
          },
          "metadata": {},
          "execution_count": 220
        }
      ]
    },
    {
      "cell_type": "code",
      "execution_count": 221,
      "metadata": {
        "id": "0SAZAGXXtPiL"
      },
      "outputs": [],
      "source": [
        "dfd=dfs.drop(columns=['Date','Installation','Component','Branch', 'Ethnicity',\t'PrimaryMOS',\t'SubjectsBirthLocation'], inplace=True)\n"
      ]
    },
    {
      "cell_type": "code",
      "execution_count": 222,
      "metadata": {
        "colab": {
          "base_uri": "https://localhost:8080/",
          "height": 476
        },
        "id": "dVrYL_nUtPiL",
        "outputId": "d060f8af-6eb4-436f-d8f0-6ce4266f83a1"
      },
      "outputs": [
        {
          "output_type": "display_data",
          "data": {
            "text/plain": [
              "<Figure size 648x360 with 2 Axes>"
            ],
            "image/png": "[encoded data removed]"
          },
          "metadata": {
            "needs_background": "light"
          }
        }
      ],
      "source": [
        "sns.heatmap(dfs.corr() > 0.85)\n",
        "plt.show()"
      ]
    },
    {
      "cell_type": "code",
      "execution_count": 223,
      "metadata": {
        "colab": {
          "base_uri": "https://localhost:8080/",
          "height": 424
        },
        "id": "4fO2rBl1tPiL",
        "outputId": "9d082d20-605e-4749-ff90-6c8217ae4185"
      },
      "outputs": [
        {
          "output_type": "execute_result",
          "data": {
            "text/plain": [
              "      Gender WritingPreference\n",
              "0       Male        Right hand\n",
              "1       Male         Left hand\n",
              "2       Male         Left hand\n",
              "3       Male        Right hand\n",
              "4       Male        Right hand\n",
              "...      ...               ...\n",
              "6063  Female        Right hand\n",
              "6064  Female        Right hand\n",
              "6065  Female        Right hand\n",
              "6066  Female        Right hand\n",
              "6067  Female        Right hand\n",
              "\n",
              "[6068 rows x 2 columns]"
            ],
            "text/html": [
              "\n",
              "  <div id=\"df-7812ba5d-47f7-44f6-89c3-fe0e1d25646b\">\n",
              "    <div class=\"colab-df-container\">\n",
              "      <div>\n",
              "<style scoped>\n",
              "    .dataframe tbody tr th:only-of-type {\n",
              "        vertical-align: middle;\n",
              "    }\n",
              "\n",
              "    .dataframe tbody tr th {\n",
              "        vertical-align: top;\n",
              "    }\n",
              "\n",
              "    .dataframe thead th {\n",
              "        text-align: right;\n",
              "    }\n",
              "</style>\n",
              "<table border=\"1\" class=\"dataframe\">\n",
              "  <thead>\n",
              "    <tr style=\"text-align: right;\">\n",
              "      <th></th>\n",
              "      <th>Gender</th>\n",
              "      <th>WritingPreference</th>\n",
              "    </tr>\n",
              "  </thead>\n",
              "  <tbody>\n",
              "    <tr>\n",
              "      <th>0</th>\n",
              "      <td>Male</td>\n",
              "      <td>Right hand</td>\n",
              "    </tr>\n",
              "    <tr>\n",
              "      <th>1</th>\n",
              "      <td>Male</td>\n",
              "      <td>Left hand</td>\n",
              "    </tr>\n",
              "    <tr>\n",
              "      <th>2</th>\n",
              "      <td>Male</td>\n",
              "      <td>Left hand</td>\n",
              "    </tr>\n",
              "    <tr>\n",
              "      <th>3</th>\n",
              "      <td>Male</td>\n",
              "      <td>Right hand</td>\n",
              "    </tr>\n",
              "    <tr>\n",
              "      <th>4</th>\n",
              "      <td>Male</td>\n",
              "      <td>Right hand</td>\n",
              "    </tr>\n",
              "    <tr>\n",
              "      <th>...</th>\n",
              "      <td>...</td>\n",
              "      <td>...</td>\n",
              "    </tr>\n",
              "    <tr>\n",
              "      <th>6063</th>\n",
              "      <td>Female</td>\n",
              "      <td>Right hand</td>\n",
              "    </tr>\n",
              "    <tr>\n",
              "      <th>6064</th>\n",
              "      <td>Female</td>\n",
              "      <td>Right hand</td>\n",
              "    </tr>\n",
              "    <tr>\n",
              "      <th>6065</th>\n",
              "      <td>Female</td>\n",
              "      <td>Right hand</td>\n",
              "    </tr>\n",
              "    <tr>\n",
              "      <th>6066</th>\n",
              "      <td>Female</td>\n",
              "      <td>Right hand</td>\n",
              "    </tr>\n",
              "    <tr>\n",
              "      <th>6067</th>\n",
              "      <td>Female</td>\n",
              "      <td>Right hand</td>\n",
              "    </tr>\n",
              "  </tbody>\n",
              "</table>\n",
              "<p>6068 rows × 2 columns</p>\n",
              "</div>\n",
              "      <button class=\"colab-df-convert\" onclick=\"convertToInteractive('df-7812ba5d-47f7-44f6-89c3-fe0e1d25646b')\"\n",
              "              title=\"Convert this dataframe to an interactive table.\"\n",
              "              style=\"display:none;\">\n",
              "        \n",
              "  <svg xmlns=\"http://www.w3.org/2000/svg\" height=\"24px\"viewBox=\"0 0 24 24\"\n",
              "       width=\"24px\">\n",
              "    <path d=\"M0 0h24v24H0V0z\" fill=\"none\"/>\n",
              "    <path d=\"M18.56 5.44l.94 2.06.94-2.06 2.06-.94-2.06-.94-.94-2.06-.94 2.06-2.06.94zm-11 1L8.5 8.5l.94-2.06 2.06-.94-2.06-.94L8.5 2.5l-.94 2.06-2.06.94zm10 10l.94 2.06.94-2.06 2.06-.94-2.06-.94-.94-2.06-.94 2.06-2.06.94z\"/><path d=\"M17.41 7.96l-1.37-1.37c-.4-.4-.92-.59-1.43-.59-.52 0-1.04.2-1.43.59L10.3 9.45l-7.72 7.72c-.78.78-.78 2.05 0 2.83L4 21.41c.39.39.9.59 1.41.59.51 0 1.02-.2 1.41-.59l7.78-7.78 2.81-2.81c.8-.78.8-2.07 0-2.86zM5.41 20L4 18.59l7.72-7.72 1.47 1.35L5.41 20z\"/>\n",
              "  </svg>\n",
              "      </button>\n",
              "      \n",
              "  <style>\n",
              "    .colab-df-container {\n",
              "      display:flex;\n",
              "      flex-wrap:wrap;\n",
              "      gap: 12px;\n",
              "    }\n",
              "\n",
              "    .colab-df-convert {\n",
              "      background-color: #E8F0FE;\n",
              "      border: none;\n",
              "      border-radius: 50%;\n",
              "      cursor: pointer;\n",
              "      display: none;\n",
              "      fill: #1967D2;\n",
              "      height: 32px;\n",
              "      padding: 0 0 0 0;\n",
              "      width: 32px;\n",
              "    }\n",
              "\n",
              "    .colab-df-convert:hover {\n",
              "      background-color: #E2EBFA;\n",
              "      box-shadow: 0px 1px 2px rgba(60, 64, 67, 0.3), 0px 1px 3px 1px rgba(60, 64, 67, 0.15);\n",
              "      fill: #174EA6;\n",
              "    }\n",
              "\n",
              "    [theme=dark] .colab-df-convert {\n",
              "      background-color: #3B4455;\n",
              "      fill: #D2E3FC;\n",
              "    }\n",
              "\n",
              "    [theme=dark] .colab-df-convert:hover {\n",
              "      background-color: #434B5C;\n",
              "      box-shadow: 0px 1px 3px 1px rgba(0, 0, 0, 0.15);\n",
              "      filter: drop-shadow(0px 1px 2px rgba(0, 0, 0, 0.3));\n",
              "      fill: #FFFFFF;\n",
              "    }\n",
              "  </style>\n",
              "\n",
              "      <script>\n",
              "        const buttonEl =\n",
              "          document.querySelector('#df-7812ba5d-47f7-44f6-89c3-fe0e1d25646b button.colab-df-convert');\n",
              "        buttonEl.style.display =\n",
              "          google.colab.kernel.accessAllowed ? 'block' : 'none';\n",
              "\n",
              "        async function convertToInteractive(key) {\n",
              "          const element = document.querySelector('#df-7812ba5d-47f7-44f6-89c3-fe0e1d25646b');\n",
              "          const dataTable =\n",
              "            await google.colab.kernel.invokeFunction('convertToInteractive',\n",
              "                                                     [key], {});\n",
              "          if (!dataTable) return;\n",
              "\n",
              "          const docLinkHtml = 'Like what you see? Visit the ' +\n",
              "            '<a target=\"_blank\" href=https://colab.research.google.com/notebooks/data_table.ipynb>data table notebook</a>'\n",
              "            + ' to learn more about interactive tables.';\n",
              "          element.innerHTML = '';\n",
              "          dataTable['output_type'] = 'display_data';\n",
              "          await google.colab.output.renderOutput(dataTable, element);\n",
              "          const docLink = document.createElement('div');\n",
              "          docLink.innerHTML = docLinkHtml;\n",
              "          element.appendChild(docLink);\n",
              "        }\n",
              "      </script>\n",
              "    </div>\n",
              "  </div>\n",
              "  "
            ]
          },
          "metadata": {},
          "execution_count": 223
        }
      ],
      "source": [
        "dfs.select_dtypes('O')"
      ]
    },
    {
      "cell_type": "code",
      "execution_count": 236,
      "metadata": {
        "colab": {
          "base_uri": "https://localhost:8080/",
          "height": 502
        },
        "id": "rLXW7cn3tPiM",
        "outputId": "f3de0f76-85c4-460d-aca7-e747fe5aa95c"
      },
      "outputs": [
        {
          "output_type": "execute_result",
          "data": {
            "text/plain": [
              "<matplotlib.axes._subplots.AxesSubplot at 0x7f1956012550>"
            ]
          },
          "metadata": {},
          "execution_count": 236
        },
        {
          "output_type": "display_data",
          "data": {
            "text/plain": [
              "<Figure size 648x360 with 1 Axes>"
            ],
            "image/png": "[encoded data removed]"
          },
          "metadata": {
            "needs_background": "light"
          }
        }
      ],
      "source": [
        "dfs.groupby('WritingPreference').DODRace.value_counts().plot(kind='bar')\n"
      ]
    },
    {
      "cell_type": "code",
      "source": [
        "import seaborn as sns"
      ],
      "metadata": {
        "id": "u0GQMxIg6D4D"
      },
      "execution_count": 234,
      "outputs": []
    },
    {
      "cell_type": "code",
      "execution_count": 239,
      "metadata": {
        "colab": {
          "base_uri": "https://localhost:8080/",
          "height": 334
        },
        "id": "C7wYgo11tPiM",
        "outputId": "f0c88a1c-bbd3-4214-8670-0cb7b2e5a31a"
      },
      "outputs": [
        {
          "output_type": "display_data",
          "data": {
            "text/plain": [
              "<Figure size 648x360 with 1 Axes>"
            ],
            "image/png": "[encoded data removed]"
          },
          "metadata": {
            "needs_background": "light"
          }
        }
      ],
      "source": [
        "# sns.barplot(df, x=df.writing_preference, y=df.writing_preference.value_counts)\n",
        "\n",
        "# sns.barplot(data=df, x=\"writing_preference\", y=\"dod_race\", hue=\"dod_race\")\n",
        "\n",
        "ax = sns.countplot(data=dfs, x='WritingPreference', hue=\"DODRace\")\n",
        "ax.spines['top'].set_visible(False)\n",
        "ax.spines['right'].set_visible(False)\n"
      ]
    },
    {
      "cell_type": "markdown",
      "metadata": {
        "heading_collapsed": true,
        "id": "CS5-GZy0sl4s"
      },
      "source": [
        "# DATA Preprocessing\n",
        "- In this step we divide our data to X(Features) and y(Target) then ,\n",
        "- To train and evaluation purposes we create train and test sets,\n",
        "- Lastly, scale our data if features not in same scale. Why?"
      ]
    },
    {
      "cell_type": "code",
      "source": [
        "X = dfs.drop('DODRace', axis=1)"
      ],
      "metadata": {
        "id": "AAYu1V8Q-uw_"
      },
      "execution_count": 254,
      "outputs": []
    },
    {
      "cell_type": "code",
      "source": [
        "y = dfs['DODRace']"
      ],
      "metadata": {
        "id": "YmQZG9_F-6hY"
      },
      "execution_count": 255,
      "outputs": []
    },
    {
      "cell_type": "code",
      "source": [
        "X = pd.get_dummies(X, drop_first=True)"
      ],
      "metadata": {
        "id": "qO1rpzAJ_OS2"
      },
      "execution_count": 257,
      "outputs": []
    },
    {
      "cell_type": "code",
      "execution_count": 258,
      "metadata": {
        "id": "gSF30jaVtPiM"
      },
      "outputs": [],
      "source": [
        "from sklearn.model_selection import train_test_split\n",
        "X_train, X_test, y_train, y_test = train_test_split(X, y, test_size=0.2, random_state=101)"
      ]
    },
    {
      "cell_type": "code",
      "source": [
        "print(\"Train features shape : \", X_train.shape)\n",
        "print(\"Train target shape   : \", y_train.shape)\n",
        "print(\"Test features shape  : \", X_test.shape)\n",
        "print(\"Test target shape    : \", y_test.shape)"
      ],
      "metadata": {
        "colab": {
          "base_uri": "https://localhost:8080/"
        },
        "id": "mTXhJLY-_gQ7",
        "outputId": "748324ab-8a66-4047-bcd9-a94f39e99b8c"
      },
      "execution_count": 259,
      "outputs": [
        {
          "output_type": "stream",
          "name": "stdout",
          "text": [
            "Train features shape :  (4854, 100)\n",
            "Train target shape   :  (4854,)\n",
            "Test features shape  :  (1214, 100)\n",
            "Test target shape    :  (1214,)\n"
          ]
        }
      ]
    },
    {
      "cell_type": "code",
      "source": [
        "from sklearn.preprocessing import OneHotEncoder\n",
        "from sklearn.compose import ColumnTransformer"
      ],
      "metadata": {
        "id": "BWSxCMk48Eqc"
      },
      "execution_count": 248,
      "outputs": []
    },
    {
      "cell_type": "markdown",
      "metadata": {
        "heading_collapsed": true,
        "id": "zfi_NOw0s2fM"
      },
      "source": [
        "# Modelling\n",
        "- Fit the model with train dataset\n",
        "- Get predict from vanilla model on both train and test sets to examine if there is over/underfitting   \n",
        "- Apply GridseachCV for both hyperparemeter tuning and sanity test of our model.\n",
        "- Use hyperparameters that you find from gridsearch and make final prediction and evaluate the result according to chosen metric."
      ]
    },
    {
      "cell_type": "code",
      "source": [
        "from imblearn.over_sampling import SMOTE\n",
        "from imblearn.under_sampling import RandomUnderSampler\n",
        "from imblearn.pipeline import Pipeline as imbpipeline"
      ],
      "metadata": {
        "id": "gVOKylf4DsIs"
      },
      "execution_count": 279,
      "outputs": []
    },
    {
      "cell_type": "markdown",
      "metadata": {
        "heading_collapsed": true,
        "hidden": true,
        "id": "N1cviBuh1b7C"
      },
      "source": [
        "## 1. Logistic model"
      ]
    },
    {
      "cell_type": "code",
      "source": [],
      "metadata": {
        "id": "avEQmG4bDqYE"
      },
      "execution_count": null,
      "outputs": []
    },
    {
      "cell_type": "markdown",
      "metadata": {
        "heading_collapsed": true,
        "hidden": true,
        "id": "0rSJ5hxp1b7C"
      },
      "source": [
        "### Vanilla Logistic Model"
      ]
    },
    {
      "cell_type": "code",
      "source": [
        "def eval_metric(model, X_train, y_train, X_test, y_test):\n",
        "    y_train_pred = model.predict(X_train)\n",
        "    y_pred = model.predict(X_test)\n",
        "    \n",
        "    print(\"Test_Set\")\n",
        "    print(confusion_matrix(y_test, y_pred))\n",
        "    print(classification_report(y_test, y_pred))\n",
        "    print()\n",
        "    print(\"Train_Set\")\n",
        "    print(confusion_matrix(y_train, y_train_pred))\n",
        "    print(classification_report(y_train, y_train_pred))"
      ],
      "metadata": {
        "id": "xiQUxZ3-_7QK"
      },
      "execution_count": 264,
      "outputs": []
    },
    {
      "cell_type": "code",
      "source": [
        "from sklearn.pipeline import Pipeline\n",
        "from sklearn.preprocessing import MinMaxScaler\n",
        "from sklearn.pipeline import make_pipeline\n",
        "from sklearn.compose import make_column_transformer\n",
        "pipe_log_model = Pipeline\n"
      ],
      "metadata": {
        "id": "81C1sF4VACnk"
      },
      "execution_count": 281,
      "outputs": []
    },
    {
      "cell_type": "markdown",
      "metadata": {
        "heading_collapsed": true,
        "hidden": true,
        "id": "lPelWxsU1b7C"
      },
      "source": [
        "### Logistic Model GridsearchCV"
      ]
    },
    {
      "cell_type": "code",
      "execution_count": null,
      "metadata": {
        "id": "PNZyqeNY15nP"
      },
      "outputs": [],
      "source": []
    },
    {
      "cell_type": "markdown",
      "metadata": {
        "heading_collapsed": true,
        "hidden": true,
        "id": "GM0PL5eZ1b7E"
      },
      "source": [
        "## 2. SVC"
      ]
    },
    {
      "cell_type": "markdown",
      "metadata": {
        "heading_collapsed": true,
        "hidden": true,
        "id": "P3j_Xk1L1b7E"
      },
      "source": [
        "### Vanilla SVC model "
      ]
    },
    {
      "cell_type": "code",
      "execution_count": null,
      "metadata": {
        "id": "pro8T6CM19vX"
      },
      "outputs": [],
      "source": []
    },
    {
      "cell_type": "markdown",
      "metadata": {
        "heading_collapsed": true,
        "hidden": true,
        "id": "28y9nWxG1b7E"
      },
      "source": [
        "###  SVC Model GridsearchCV"
      ]
    },
    {
      "cell_type": "code",
      "execution_count": null,
      "metadata": {
        "id": "4dFocgCo1-0Z"
      },
      "outputs": [],
      "source": []
    },
    {
      "cell_type": "markdown",
      "metadata": {
        "heading_collapsed": true,
        "hidden": true,
        "id": "bDX_iLIls74C"
      },
      "source": [
        "## 3. RF"
      ]
    },
    {
      "cell_type": "markdown",
      "metadata": {
        "heading_collapsed": true,
        "hidden": true,
        "id": "qaTzrT6P1b7G"
      },
      "source": [
        "### Vanilla RF Model"
      ]
    },
    {
      "cell_type": "code",
      "execution_count": null,
      "metadata": {
        "id": "gvtqL0Qg2CKf"
      },
      "outputs": [],
      "source": []
    },
    {
      "cell_type": "markdown",
      "metadata": {
        "heading_collapsed": true,
        "hidden": true,
        "id": "MkLAZ_M41b7G"
      },
      "source": [
        "### RF Model GridsearchCV"
      ]
    },
    {
      "cell_type": "code",
      "execution_count": null,
      "metadata": {
        "id": "hpmPr3202EbD"
      },
      "outputs": [],
      "source": []
    },
    {
      "cell_type": "markdown",
      "metadata": {
        "heading_collapsed": true,
        "hidden": true,
        "id": "PvcPc4V81b7H"
      },
      "source": [
        "## 4. XGBoost"
      ]
    },
    {
      "cell_type": "markdown",
      "metadata": {
        "heading_collapsed": true,
        "hidden": true,
        "id": "MuxxUFoW1b7H"
      },
      "source": [
        "### Vanilla XGBoost Model"
      ]
    },
    {
      "cell_type": "code",
      "execution_count": null,
      "metadata": {
        "id": "Nfi1aa152HbR"
      },
      "outputs": [],
      "source": []
    },
    {
      "cell_type": "markdown",
      "metadata": {
        "heading_collapsed": true,
        "hidden": true,
        "id": "p3gH5QvE1b7I"
      },
      "source": [
        "### XGBoost Model GridsearchCV"
      ]
    },
    {
      "cell_type": "code",
      "execution_count": null,
      "metadata": {
        "id": "72E3Cmnm2KOE"
      },
      "outputs": [],
      "source": []
    },
    {
      "cell_type": "markdown",
      "metadata": {
        "hidden": true,
        "id": "DbXAmOPVDatl"
      },
      "source": [
        "---\n",
        "---"
      ]
    },
    {
      "cell_type": "markdown",
      "metadata": {
        "hidden": true,
        "id": "WvWpInu21b7L"
      },
      "source": [
        "---\n",
        "---"
      ]
    },
    {
      "cell_type": "markdown",
      "metadata": {
        "heading_collapsed": true,
        "id": "xg2k1ScZ1b7L"
      },
      "source": [
        "# SMOTE\n",
        "https://machinelearningmastery.com/smote-oversampling-for-imbalanced-classification/"
      ]
    },
    {
      "cell_type": "markdown",
      "metadata": {
        "hidden": true,
        "id": "9Rqk02x61b7L"
      },
      "source": [
        "##  Smote implement"
      ]
    },
    {
      "cell_type": "code",
      "execution_count": 260,
      "metadata": {
        "hidden": true,
        "id": "XTN4iO7i1b7L",
        "colab": {
          "base_uri": "https://localhost:8080/"
        },
        "outputId": "fe73e80a-7951-409c-9966-f0fa8b365b49"
      },
      "outputs": [
        {
          "output_type": "stream",
          "name": "stdout",
          "text": [
            "Looking in indexes: https://pypi.org/simple, https://us-python.pkg.dev/colab-wheels/public/simple/\n",
            "Requirement already satisfied: imblearn in /usr/local/lib/python3.7/dist-packages (0.0)\n",
            "Requirement already satisfied: imbalanced-learn in /usr/local/lib/python3.7/dist-packages (from imblearn) (0.8.1)\n",
            "Requirement already satisfied: joblib>=0.11 in /usr/local/lib/python3.7/dist-packages (from imbalanced-learn->imblearn) (1.1.0)\n",
            "Requirement already satisfied: scipy>=0.19.1 in /usr/local/lib/python3.7/dist-packages (from imbalanced-learn->imblearn) (1.7.3)\n",
            "Requirement already satisfied: scikit-learn>=0.24 in /usr/local/lib/python3.7/dist-packages (from imbalanced-learn->imblearn) (1.0.2)\n",
            "Requirement already satisfied: numpy>=1.13.3 in /usr/local/lib/python3.7/dist-packages (from imbalanced-learn->imblearn) (1.21.6)\n",
            "Requirement already satisfied: threadpoolctl>=2.0.0 in /usr/local/lib/python3.7/dist-packages (from scikit-learn>=0.24->imbalanced-learn->imblearn) (3.1.0)\n"
          ]
        }
      ],
      "source": [
        "!pip install imblearn"
      ]
    },
    {
      "cell_type": "code",
      "execution_count": 261,
      "metadata": {
        "hidden": true,
        "id": "Cv5155AN1b7L"
      },
      "outputs": [],
      "source": [
        "from imblearn.over_sampling import SMOTE\n",
        "from imblearn.under_sampling import RandomUnderSampler\n",
        "from imblearn.pipeline import Pipeline"
      ]
    },
    {
      "cell_type": "markdown",
      "metadata": {
        "hidden": true,
        "id": "aoKU_HZR1b7M"
      },
      "source": [
        "## SVC Over/Under Sampling"
      ]
    },
    {
      "cell_type": "code",
      "execution_count": null,
      "metadata": {
        "id": "JkNSgnut2Z6N"
      },
      "outputs": [],
      "source": []
    },
    {
      "cell_type": "markdown",
      "metadata": {
        "hidden": true,
        "id": "1hBIqmFL1b7O"
      },
      "source": [
        "## Xgboost Over/ Under Sampling"
      ]
    },
    {
      "cell_type": "code",
      "execution_count": null,
      "metadata": {
        "id": "12AItu1M2ds0"
      },
      "outputs": [],
      "source": []
    },
    {
      "cell_type": "markdown",
      "metadata": {
        "hidden": true,
        "id": "T1pPLjpA1b7P"
      },
      "source": [
        "- Evaluation metrics \n",
        "https://towardsdatascience.com/comprehensive-guide-on-multiclass-classification-metrics-af94cfb83fbd"
      ]
    },
    {
      "cell_type": "code",
      "execution_count": null,
      "metadata": {
        "hidden": true,
        "id": "Me3OZtQF1b7P"
      },
      "outputs": [],
      "source": [
        "from sklearn.metrics import matthews_corrcoef\n",
        "\n",
        "matthews_corrcoef(y_test, y_pred)"
      ]
    },
    {
      "cell_type": "code",
      "execution_count": null,
      "metadata": {
        "hidden": true,
        "id": "P74oLhzK1b7P"
      },
      "outputs": [],
      "source": [
        "from sklearn.metrics import cohen_kappa_score\n",
        "\n",
        "cohen_kappa_score(y_test, y_pred)"
      ]
    },
    {
      "cell_type": "markdown",
      "metadata": {
        "heading_collapsed": true,
        "id": "AVnS0UKO1b7P"
      },
      "source": [
        "#  SHAP\n",
        "\n",
        "https://towardsdatascience.com/shap-explain-any-machine-learning-model-in-python-24207127cad7"
      ]
    },
    {
      "cell_type": "code",
      "execution_count": null,
      "metadata": {
        "hidden": true,
        "id": "-vB4oVMU1b7P",
        "scrolled": true
      },
      "outputs": [],
      "source": [
        "# !pip install shap"
      ]
    },
    {
      "cell_type": "code",
      "execution_count": null,
      "metadata": {
        "hidden": true,
        "id": "ryW4sFrT1b7P"
      },
      "outputs": [],
      "source": [
        "import shap\n",
        "explainer = shap.Explainer(log_model,X_train)\n",
        "start_index = 203\n",
        "end_index = 204\n",
        "shap_values = explainer.shap_values(X_test[start_index:end_index])"
      ]
    },
    {
      "cell_type": "code",
      "execution_count": null,
      "metadata": {
        "hidden": true,
        "id": "eTTPiHfB1b7Q",
        "scrolled": true
      },
      "outputs": [],
      "source": [
        "shap_values"
      ]
    },
    {
      "cell_type": "code",
      "execution_count": null,
      "metadata": {
        "hidden": true,
        "id": "IVG77ukO1b7Q"
      },
      "outputs": [],
      "source": [
        "print(shap_values[0].shape)"
      ]
    },
    {
      "cell_type": "code",
      "execution_count": null,
      "metadata": {
        "hidden": true,
        "id": "Ea2YZzkQ1b7Q"
      },
      "outputs": [],
      "source": [
        "# %% >> Visualize local predictions\n",
        "shap.initjs()\n",
        "# Force plot\n",
        "prediction = log_model.predict(X_test[start_index:end_index])[0]\n",
        "print(f\"The log_model predicted: {prediction}\")\n",
        "shap.force_plot(explainer.expected_value[1],\n",
        "                shap_values[1],\n",
        "                X_test[start_index:end_index], # for values\n",
        "                feature_names= X.columns,) "
      ]
    },
    {
      "cell_type": "code",
      "execution_count": null,
      "metadata": {
        "hidden": true,
        "id": "DscXral61b7Q",
        "scrolled": true
      },
      "outputs": [],
      "source": [
        "shap.summary_plot(shap_values, X_train,max_display=300,feature_names = X.columns)"
      ]
    },
    {
      "cell_type": "markdown",
      "metadata": {
        "heading_collapsed": true,
        "id": "9hxUcvZG1b7J"
      },
      "source": [
        "# Before the Deployment \n",
        "- Choose the model that works best based on your chosen metric\n",
        "- For final step, fit the best model with whole dataset to get better performance.\n",
        "- And your model ready to deploy, dump your model and scaler."
      ]
    },
    {
      "cell_type": "code",
      "execution_count": null,
      "metadata": {
        "id": "4UOn_G0n2N2Z"
      },
      "outputs": [],
      "source": []
    },
    {
      "cell_type": "markdown",
      "metadata": {
        "hidden": true,
        "id": "g8_x-BiN1b7Q"
      },
      "source": [
        "___\n",
        "\n",
        "<p style=\"text-align: center;\"><img src=\"https://docs.google.com/uc?id=1lY0Uj5R04yMY3-ZppPWxqCr5pvBLYPnV\" class=\"img-fluid\" alt=\"CLRSWY\"></p>\n",
        "\n",
        "___"
      ]
    }
  ],
  "metadata": {
    "colab": {
      "collapsed_sections": [
        "p3gH5QvE1b7I",
        "AVnS0UKO1b7P"
      ],
      "provenance": [],
      "include_colab_link": true
    },
    "hide_input": false,
    "kernelspec": {
      "display_name": "Python 3.9.13 64-bit",
      "language": "python",
      "name": "python3"
    },
    "language_info": {
      "codemirror_mode": {
        "name": "ipython",
        "version": 3
      },
      "file_extension": ".py",
      "mimetype": "text/x-python",
      "name": "python",
      "nbconvert_exporter": "python",
      "pygments_lexer": "ipython3",
      "version": "3.9.13"
    },
    "toc": {
      "base_numbering": 1,
      "nav_menu": {},
      "number_sections": true,
      "sideBar": true,
      "skip_h1_title": false,
      "title_cell": "Table of Contents",
      "title_sidebar": "Contents",
      "toc_cell": false,
      "toc_position": {
        "height": "calc(100% - 180px)",
        "left": "10px",
        "top": "150px",
        "width": "338.797px"
      },
      "toc_section_display": true,
      "toc_window_display": false
    },
    "varInspector": {
      "cols": {
        "lenName": 16,
        "lenType": 16,
        "lenVar": 40
      },
      "kernels_config": {
        "python": {
          "delete_cmd_postfix": "",
          "delete_cmd_prefix": "del ",
          "library": "var_list.py",
          "varRefreshCmd": "print(var_dic_list())"
        },
        "r": {
          "delete_cmd_postfix": ") ",
          "delete_cmd_prefix": "rm(",
          "library": "var_list.r",
          "varRefreshCmd": "cat(var_dic_list()) "
        }
      },
      "oldHeight": 527,
      "position": {
        "height": "40px",
        "left": "1034px",
        "right": "20px",
        "top": "185px",
        "width": "661px"
      },
      "types_to_exclude": [
        "module",
        "function",
        "builtin_function_or_method",
        "instance",
        "_Feature"
      ],
      "varInspector_section_display": "none",
      "window_display": false
    },
    "vscode": {
      "interpreter": {
        "hash": "b0fa6594d8f4cbf19f97940f81e996739fb7646882a419484c72d19e05852a7e"
      }
    }
  },
  "nbformat": 4,
  "nbformat_minor": 0
}